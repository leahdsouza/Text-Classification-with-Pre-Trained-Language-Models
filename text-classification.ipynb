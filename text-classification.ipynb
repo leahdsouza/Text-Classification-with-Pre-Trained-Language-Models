{
  "nbformat": 4,
  "nbformat_minor": 0,
  "metadata": {
    "colab": {
      "provenance": []
    },
    "kernelspec": {
      "name": "python3",
      "display_name": "Python 3"
    },
    "language_info": {
      "name": "python"
    },
    "widgets": {
      "application/vnd.jupyter.widget-state+json": {
        "819d2d18a58b4ce0ad99c317397f615f": {
          "model_module": "@jupyter-widgets/controls",
          "model_name": "HBoxModel",
          "model_module_version": "1.5.0",
          "state": {
            "_dom_classes": [],
            "_model_module": "@jupyter-widgets/controls",
            "_model_module_version": "1.5.0",
            "_model_name": "HBoxModel",
            "_view_count": null,
            "_view_module": "@jupyter-widgets/controls",
            "_view_module_version": "1.5.0",
            "_view_name": "HBoxView",
            "box_style": "",
            "children": [
              "IPY_MODEL_e7a202e8184f41e7ac2d6f6c9644e252",
              "IPY_MODEL_650af56235a545edac476c8b98a77942",
              "IPY_MODEL_fa5dbdc91c9343ecb044f7639c881e1c"
            ],
            "layout": "IPY_MODEL_e7937c9791994a90a346465087a4c92a"
          }
        },
        "e7a202e8184f41e7ac2d6f6c9644e252": {
          "model_module": "@jupyter-widgets/controls",
          "model_name": "HTMLModel",
          "model_module_version": "1.5.0",
          "state": {
            "_dom_classes": [],
            "_model_module": "@jupyter-widgets/controls",
            "_model_module_version": "1.5.0",
            "_model_name": "HTMLModel",
            "_view_count": null,
            "_view_module": "@jupyter-widgets/controls",
            "_view_module_version": "1.5.0",
            "_view_name": "HTMLView",
            "description": "",
            "description_tooltip": null,
            "layout": "IPY_MODEL_80163f34d56f49bcad52fd67ba71dc51",
            "placeholder": "​",
            "style": "IPY_MODEL_c063c3d306a5479dbdbf7e6996b6ca2c",
            "value": "config.json: 100%"
          }
        },
        "650af56235a545edac476c8b98a77942": {
          "model_module": "@jupyter-widgets/controls",
          "model_name": "FloatProgressModel",
          "model_module_version": "1.5.0",
          "state": {
            "_dom_classes": [],
            "_model_module": "@jupyter-widgets/controls",
            "_model_module_version": "1.5.0",
            "_model_name": "FloatProgressModel",
            "_view_count": null,
            "_view_module": "@jupyter-widgets/controls",
            "_view_module_version": "1.5.0",
            "_view_name": "ProgressView",
            "bar_style": "success",
            "description": "",
            "description_tooltip": null,
            "layout": "IPY_MODEL_e9c21691d3494e42a9bdc332e6ec8c52",
            "max": 570,
            "min": 0,
            "orientation": "horizontal",
            "style": "IPY_MODEL_c7caae173232414abe11830ca182ade6",
            "value": 570
          }
        },
        "fa5dbdc91c9343ecb044f7639c881e1c": {
          "model_module": "@jupyter-widgets/controls",
          "model_name": "HTMLModel",
          "model_module_version": "1.5.0",
          "state": {
            "_dom_classes": [],
            "_model_module": "@jupyter-widgets/controls",
            "_model_module_version": "1.5.0",
            "_model_name": "HTMLModel",
            "_view_count": null,
            "_view_module": "@jupyter-widgets/controls",
            "_view_module_version": "1.5.0",
            "_view_name": "HTMLView",
            "description": "",
            "description_tooltip": null,
            "layout": "IPY_MODEL_88c506efe3074fad93a34a51bfd4b1a4",
            "placeholder": "​",
            "style": "IPY_MODEL_7a3e278a87e44c398ab3a07889605ed7",
            "value": " 570/570 [00:00&lt;00:00, 24.6kB/s]"
          }
        },
        "e7937c9791994a90a346465087a4c92a": {
          "model_module": "@jupyter-widgets/base",
          "model_name": "LayoutModel",
          "model_module_version": "1.2.0",
          "state": {
            "_model_module": "@jupyter-widgets/base",
            "_model_module_version": "1.2.0",
            "_model_name": "LayoutModel",
            "_view_count": null,
            "_view_module": "@jupyter-widgets/base",
            "_view_module_version": "1.2.0",
            "_view_name": "LayoutView",
            "align_content": null,
            "align_items": null,
            "align_self": null,
            "border": null,
            "bottom": null,
            "display": null,
            "flex": null,
            "flex_flow": null,
            "grid_area": null,
            "grid_auto_columns": null,
            "grid_auto_flow": null,
            "grid_auto_rows": null,
            "grid_column": null,
            "grid_gap": null,
            "grid_row": null,
            "grid_template_areas": null,
            "grid_template_columns": null,
            "grid_template_rows": null,
            "height": null,
            "justify_content": null,
            "justify_items": null,
            "left": null,
            "margin": null,
            "max_height": null,
            "max_width": null,
            "min_height": null,
            "min_width": null,
            "object_fit": null,
            "object_position": null,
            "order": null,
            "overflow": null,
            "overflow_x": null,
            "overflow_y": null,
            "padding": null,
            "right": null,
            "top": null,
            "visibility": null,
            "width": null
          }
        },
        "80163f34d56f49bcad52fd67ba71dc51": {
          "model_module": "@jupyter-widgets/base",
          "model_name": "LayoutModel",
          "model_module_version": "1.2.0",
          "state": {
            "_model_module": "@jupyter-widgets/base",
            "_model_module_version": "1.2.0",
            "_model_name": "LayoutModel",
            "_view_count": null,
            "_view_module": "@jupyter-widgets/base",
            "_view_module_version": "1.2.0",
            "_view_name": "LayoutView",
            "align_content": null,
            "align_items": null,
            "align_self": null,
            "border": null,
            "bottom": null,
            "display": null,
            "flex": null,
            "flex_flow": null,
            "grid_area": null,
            "grid_auto_columns": null,
            "grid_auto_flow": null,
            "grid_auto_rows": null,
            "grid_column": null,
            "grid_gap": null,
            "grid_row": null,
            "grid_template_areas": null,
            "grid_template_columns": null,
            "grid_template_rows": null,
            "height": null,
            "justify_content": null,
            "justify_items": null,
            "left": null,
            "margin": null,
            "max_height": null,
            "max_width": null,
            "min_height": null,
            "min_width": null,
            "object_fit": null,
            "object_position": null,
            "order": null,
            "overflow": null,
            "overflow_x": null,
            "overflow_y": null,
            "padding": null,
            "right": null,
            "top": null,
            "visibility": null,
            "width": null
          }
        },
        "c063c3d306a5479dbdbf7e6996b6ca2c": {
          "model_module": "@jupyter-widgets/controls",
          "model_name": "DescriptionStyleModel",
          "model_module_version": "1.5.0",
          "state": {
            "_model_module": "@jupyter-widgets/controls",
            "_model_module_version": "1.5.0",
            "_model_name": "DescriptionStyleModel",
            "_view_count": null,
            "_view_module": "@jupyter-widgets/base",
            "_view_module_version": "1.2.0",
            "_view_name": "StyleView",
            "description_width": ""
          }
        },
        "e9c21691d3494e42a9bdc332e6ec8c52": {
          "model_module": "@jupyter-widgets/base",
          "model_name": "LayoutModel",
          "model_module_version": "1.2.0",
          "state": {
            "_model_module": "@jupyter-widgets/base",
            "_model_module_version": "1.2.0",
            "_model_name": "LayoutModel",
            "_view_count": null,
            "_view_module": "@jupyter-widgets/base",
            "_view_module_version": "1.2.0",
            "_view_name": "LayoutView",
            "align_content": null,
            "align_items": null,
            "align_self": null,
            "border": null,
            "bottom": null,
            "display": null,
            "flex": null,
            "flex_flow": null,
            "grid_area": null,
            "grid_auto_columns": null,
            "grid_auto_flow": null,
            "grid_auto_rows": null,
            "grid_column": null,
            "grid_gap": null,
            "grid_row": null,
            "grid_template_areas": null,
            "grid_template_columns": null,
            "grid_template_rows": null,
            "height": null,
            "justify_content": null,
            "justify_items": null,
            "left": null,
            "margin": null,
            "max_height": null,
            "max_width": null,
            "min_height": null,
            "min_width": null,
            "object_fit": null,
            "object_position": null,
            "order": null,
            "overflow": null,
            "overflow_x": null,
            "overflow_y": null,
            "padding": null,
            "right": null,
            "top": null,
            "visibility": null,
            "width": null
          }
        },
        "c7caae173232414abe11830ca182ade6": {
          "model_module": "@jupyter-widgets/controls",
          "model_name": "ProgressStyleModel",
          "model_module_version": "1.5.0",
          "state": {
            "_model_module": "@jupyter-widgets/controls",
            "_model_module_version": "1.5.0",
            "_model_name": "ProgressStyleModel",
            "_view_count": null,
            "_view_module": "@jupyter-widgets/base",
            "_view_module_version": "1.2.0",
            "_view_name": "StyleView",
            "bar_color": null,
            "description_width": ""
          }
        },
        "88c506efe3074fad93a34a51bfd4b1a4": {
          "model_module": "@jupyter-widgets/base",
          "model_name": "LayoutModel",
          "model_module_version": "1.2.0",
          "state": {
            "_model_module": "@jupyter-widgets/base",
            "_model_module_version": "1.2.0",
            "_model_name": "LayoutModel",
            "_view_count": null,
            "_view_module": "@jupyter-widgets/base",
            "_view_module_version": "1.2.0",
            "_view_name": "LayoutView",
            "align_content": null,
            "align_items": null,
            "align_self": null,
            "border": null,
            "bottom": null,
            "display": null,
            "flex": null,
            "flex_flow": null,
            "grid_area": null,
            "grid_auto_columns": null,
            "grid_auto_flow": null,
            "grid_auto_rows": null,
            "grid_column": null,
            "grid_gap": null,
            "grid_row": null,
            "grid_template_areas": null,
            "grid_template_columns": null,
            "grid_template_rows": null,
            "height": null,
            "justify_content": null,
            "justify_items": null,
            "left": null,
            "margin": null,
            "max_height": null,
            "max_width": null,
            "min_height": null,
            "min_width": null,
            "object_fit": null,
            "object_position": null,
            "order": null,
            "overflow": null,
            "overflow_x": null,
            "overflow_y": null,
            "padding": null,
            "right": null,
            "top": null,
            "visibility": null,
            "width": null
          }
        },
        "7a3e278a87e44c398ab3a07889605ed7": {
          "model_module": "@jupyter-widgets/controls",
          "model_name": "DescriptionStyleModel",
          "model_module_version": "1.5.0",
          "state": {
            "_model_module": "@jupyter-widgets/controls",
            "_model_module_version": "1.5.0",
            "_model_name": "DescriptionStyleModel",
            "_view_count": null,
            "_view_module": "@jupyter-widgets/base",
            "_view_module_version": "1.2.0",
            "_view_name": "StyleView",
            "description_width": ""
          }
        },
        "6ca7f36472db421f8b32f7bd89dcebc9": {
          "model_module": "@jupyter-widgets/controls",
          "model_name": "HBoxModel",
          "model_module_version": "1.5.0",
          "state": {
            "_dom_classes": [],
            "_model_module": "@jupyter-widgets/controls",
            "_model_module_version": "1.5.0",
            "_model_name": "HBoxModel",
            "_view_count": null,
            "_view_module": "@jupyter-widgets/controls",
            "_view_module_version": "1.5.0",
            "_view_name": "HBoxView",
            "box_style": "",
            "children": [
              "IPY_MODEL_586bae2add7d47f3b64cf3b878a85476",
              "IPY_MODEL_fa1771abe2f2428f8e0498b3649c5eb7",
              "IPY_MODEL_2d19c540f5c74469a34c1ccc34e94596"
            ],
            "layout": "IPY_MODEL_2ad87c479d0044ca99d6a0d77abc8015"
          }
        },
        "586bae2add7d47f3b64cf3b878a85476": {
          "model_module": "@jupyter-widgets/controls",
          "model_name": "HTMLModel",
          "model_module_version": "1.5.0",
          "state": {
            "_dom_classes": [],
            "_model_module": "@jupyter-widgets/controls",
            "_model_module_version": "1.5.0",
            "_model_name": "HTMLModel",
            "_view_count": null,
            "_view_module": "@jupyter-widgets/controls",
            "_view_module_version": "1.5.0",
            "_view_name": "HTMLView",
            "description": "",
            "description_tooltip": null,
            "layout": "IPY_MODEL_d5c68c6de8224fd89756fe3fd6638a61",
            "placeholder": "​",
            "style": "IPY_MODEL_88b1af0c82f44ecc977b53fc2ec9fc15",
            "value": "model.safetensors: 100%"
          }
        },
        "fa1771abe2f2428f8e0498b3649c5eb7": {
          "model_module": "@jupyter-widgets/controls",
          "model_name": "FloatProgressModel",
          "model_module_version": "1.5.0",
          "state": {
            "_dom_classes": [],
            "_model_module": "@jupyter-widgets/controls",
            "_model_module_version": "1.5.0",
            "_model_name": "FloatProgressModel",
            "_view_count": null,
            "_view_module": "@jupyter-widgets/controls",
            "_view_module_version": "1.5.0",
            "_view_name": "ProgressView",
            "bar_style": "success",
            "description": "",
            "description_tooltip": null,
            "layout": "IPY_MODEL_d82b48230a804c2284e50d3093f689c4",
            "max": 440449768,
            "min": 0,
            "orientation": "horizontal",
            "style": "IPY_MODEL_93afa9170d234af0850782a83bc70f94",
            "value": 440449768
          }
        },
        "2d19c540f5c74469a34c1ccc34e94596": {
          "model_module": "@jupyter-widgets/controls",
          "model_name": "HTMLModel",
          "model_module_version": "1.5.0",
          "state": {
            "_dom_classes": [],
            "_model_module": "@jupyter-widgets/controls",
            "_model_module_version": "1.5.0",
            "_model_name": "HTMLModel",
            "_view_count": null,
            "_view_module": "@jupyter-widgets/controls",
            "_view_module_version": "1.5.0",
            "_view_name": "HTMLView",
            "description": "",
            "description_tooltip": null,
            "layout": "IPY_MODEL_0badf35eff1448b78c50776d4fc9e83e",
            "placeholder": "​",
            "style": "IPY_MODEL_763dac027b7f421d85d357b80fc17aa4",
            "value": " 440M/440M [00:02&lt;00:00, 161MB/s]"
          }
        },
        "2ad87c479d0044ca99d6a0d77abc8015": {
          "model_module": "@jupyter-widgets/base",
          "model_name": "LayoutModel",
          "model_module_version": "1.2.0",
          "state": {
            "_model_module": "@jupyter-widgets/base",
            "_model_module_version": "1.2.0",
            "_model_name": "LayoutModel",
            "_view_count": null,
            "_view_module": "@jupyter-widgets/base",
            "_view_module_version": "1.2.0",
            "_view_name": "LayoutView",
            "align_content": null,
            "align_items": null,
            "align_self": null,
            "border": null,
            "bottom": null,
            "display": null,
            "flex": null,
            "flex_flow": null,
            "grid_area": null,
            "grid_auto_columns": null,
            "grid_auto_flow": null,
            "grid_auto_rows": null,
            "grid_column": null,
            "grid_gap": null,
            "grid_row": null,
            "grid_template_areas": null,
            "grid_template_columns": null,
            "grid_template_rows": null,
            "height": null,
            "justify_content": null,
            "justify_items": null,
            "left": null,
            "margin": null,
            "max_height": null,
            "max_width": null,
            "min_height": null,
            "min_width": null,
            "object_fit": null,
            "object_position": null,
            "order": null,
            "overflow": null,
            "overflow_x": null,
            "overflow_y": null,
            "padding": null,
            "right": null,
            "top": null,
            "visibility": null,
            "width": null
          }
        },
        "d5c68c6de8224fd89756fe3fd6638a61": {
          "model_module": "@jupyter-widgets/base",
          "model_name": "LayoutModel",
          "model_module_version": "1.2.0",
          "state": {
            "_model_module": "@jupyter-widgets/base",
            "_model_module_version": "1.2.0",
            "_model_name": "LayoutModel",
            "_view_count": null,
            "_view_module": "@jupyter-widgets/base",
            "_view_module_version": "1.2.0",
            "_view_name": "LayoutView",
            "align_content": null,
            "align_items": null,
            "align_self": null,
            "border": null,
            "bottom": null,
            "display": null,
            "flex": null,
            "flex_flow": null,
            "grid_area": null,
            "grid_auto_columns": null,
            "grid_auto_flow": null,
            "grid_auto_rows": null,
            "grid_column": null,
            "grid_gap": null,
            "grid_row": null,
            "grid_template_areas": null,
            "grid_template_columns": null,
            "grid_template_rows": null,
            "height": null,
            "justify_content": null,
            "justify_items": null,
            "left": null,
            "margin": null,
            "max_height": null,
            "max_width": null,
            "min_height": null,
            "min_width": null,
            "object_fit": null,
            "object_position": null,
            "order": null,
            "overflow": null,
            "overflow_x": null,
            "overflow_y": null,
            "padding": null,
            "right": null,
            "top": null,
            "visibility": null,
            "width": null
          }
        },
        "88b1af0c82f44ecc977b53fc2ec9fc15": {
          "model_module": "@jupyter-widgets/controls",
          "model_name": "DescriptionStyleModel",
          "model_module_version": "1.5.0",
          "state": {
            "_model_module": "@jupyter-widgets/controls",
            "_model_module_version": "1.5.0",
            "_model_name": "DescriptionStyleModel",
            "_view_count": null,
            "_view_module": "@jupyter-widgets/base",
            "_view_module_version": "1.2.0",
            "_view_name": "StyleView",
            "description_width": ""
          }
        },
        "d82b48230a804c2284e50d3093f689c4": {
          "model_module": "@jupyter-widgets/base",
          "model_name": "LayoutModel",
          "model_module_version": "1.2.0",
          "state": {
            "_model_module": "@jupyter-widgets/base",
            "_model_module_version": "1.2.0",
            "_model_name": "LayoutModel",
            "_view_count": null,
            "_view_module": "@jupyter-widgets/base",
            "_view_module_version": "1.2.0",
            "_view_name": "LayoutView",
            "align_content": null,
            "align_items": null,
            "align_self": null,
            "border": null,
            "bottom": null,
            "display": null,
            "flex": null,
            "flex_flow": null,
            "grid_area": null,
            "grid_auto_columns": null,
            "grid_auto_flow": null,
            "grid_auto_rows": null,
            "grid_column": null,
            "grid_gap": null,
            "grid_row": null,
            "grid_template_areas": null,
            "grid_template_columns": null,
            "grid_template_rows": null,
            "height": null,
            "justify_content": null,
            "justify_items": null,
            "left": null,
            "margin": null,
            "max_height": null,
            "max_width": null,
            "min_height": null,
            "min_width": null,
            "object_fit": null,
            "object_position": null,
            "order": null,
            "overflow": null,
            "overflow_x": null,
            "overflow_y": null,
            "padding": null,
            "right": null,
            "top": null,
            "visibility": null,
            "width": null
          }
        },
        "93afa9170d234af0850782a83bc70f94": {
          "model_module": "@jupyter-widgets/controls",
          "model_name": "ProgressStyleModel",
          "model_module_version": "1.5.0",
          "state": {
            "_model_module": "@jupyter-widgets/controls",
            "_model_module_version": "1.5.0",
            "_model_name": "ProgressStyleModel",
            "_view_count": null,
            "_view_module": "@jupyter-widgets/base",
            "_view_module_version": "1.2.0",
            "_view_name": "StyleView",
            "bar_color": null,
            "description_width": ""
          }
        },
        "0badf35eff1448b78c50776d4fc9e83e": {
          "model_module": "@jupyter-widgets/base",
          "model_name": "LayoutModel",
          "model_module_version": "1.2.0",
          "state": {
            "_model_module": "@jupyter-widgets/base",
            "_model_module_version": "1.2.0",
            "_model_name": "LayoutModel",
            "_view_count": null,
            "_view_module": "@jupyter-widgets/base",
            "_view_module_version": "1.2.0",
            "_view_name": "LayoutView",
            "align_content": null,
            "align_items": null,
            "align_self": null,
            "border": null,
            "bottom": null,
            "display": null,
            "flex": null,
            "flex_flow": null,
            "grid_area": null,
            "grid_auto_columns": null,
            "grid_auto_flow": null,
            "grid_auto_rows": null,
            "grid_column": null,
            "grid_gap": null,
            "grid_row": null,
            "grid_template_areas": null,
            "grid_template_columns": null,
            "grid_template_rows": null,
            "height": null,
            "justify_content": null,
            "justify_items": null,
            "left": null,
            "margin": null,
            "max_height": null,
            "max_width": null,
            "min_height": null,
            "min_width": null,
            "object_fit": null,
            "object_position": null,
            "order": null,
            "overflow": null,
            "overflow_x": null,
            "overflow_y": null,
            "padding": null,
            "right": null,
            "top": null,
            "visibility": null,
            "width": null
          }
        },
        "763dac027b7f421d85d357b80fc17aa4": {
          "model_module": "@jupyter-widgets/controls",
          "model_name": "DescriptionStyleModel",
          "model_module_version": "1.5.0",
          "state": {
            "_model_module": "@jupyter-widgets/controls",
            "_model_module_version": "1.5.0",
            "_model_name": "DescriptionStyleModel",
            "_view_count": null,
            "_view_module": "@jupyter-widgets/base",
            "_view_module_version": "1.2.0",
            "_view_name": "StyleView",
            "description_width": ""
          }
        },
        "e39c19ce22634d98a6b96fda51445fdf": {
          "model_module": "@jupyter-widgets/controls",
          "model_name": "HBoxModel",
          "model_module_version": "1.5.0",
          "state": {
            "_dom_classes": [],
            "_model_module": "@jupyter-widgets/controls",
            "_model_module_version": "1.5.0",
            "_model_name": "HBoxModel",
            "_view_count": null,
            "_view_module": "@jupyter-widgets/controls",
            "_view_module_version": "1.5.0",
            "_view_name": "HBoxView",
            "box_style": "",
            "children": [
              "IPY_MODEL_bc8092f193cf4062a65752816c783074",
              "IPY_MODEL_7a4e9c01a2514b4595dd697852514397",
              "IPY_MODEL_b952b85baa6a44bea40c8f97de0fcc39"
            ],
            "layout": "IPY_MODEL_c23f0227eec14b24b5f1454f5a9f9a2a"
          }
        },
        "bc8092f193cf4062a65752816c783074": {
          "model_module": "@jupyter-widgets/controls",
          "model_name": "HTMLModel",
          "model_module_version": "1.5.0",
          "state": {
            "_dom_classes": [],
            "_model_module": "@jupyter-widgets/controls",
            "_model_module_version": "1.5.0",
            "_model_name": "HTMLModel",
            "_view_count": null,
            "_view_module": "@jupyter-widgets/controls",
            "_view_module_version": "1.5.0",
            "_view_name": "HTMLView",
            "description": "",
            "description_tooltip": null,
            "layout": "IPY_MODEL_edfbbc3bba064df0810a256b310e03c7",
            "placeholder": "​",
            "style": "IPY_MODEL_214b9f70a6704536b74e65ea7e0f57bb",
            "value": "tokenizer_config.json: 100%"
          }
        },
        "7a4e9c01a2514b4595dd697852514397": {
          "model_module": "@jupyter-widgets/controls",
          "model_name": "FloatProgressModel",
          "model_module_version": "1.5.0",
          "state": {
            "_dom_classes": [],
            "_model_module": "@jupyter-widgets/controls",
            "_model_module_version": "1.5.0",
            "_model_name": "FloatProgressModel",
            "_view_count": null,
            "_view_module": "@jupyter-widgets/controls",
            "_view_module_version": "1.5.0",
            "_view_name": "ProgressView",
            "bar_style": "success",
            "description": "",
            "description_tooltip": null,
            "layout": "IPY_MODEL_165f8636573b4653840b075d37090949",
            "max": 48,
            "min": 0,
            "orientation": "horizontal",
            "style": "IPY_MODEL_faca2d1bebfd4c9488166348cd3c414c",
            "value": 48
          }
        },
        "b952b85baa6a44bea40c8f97de0fcc39": {
          "model_module": "@jupyter-widgets/controls",
          "model_name": "HTMLModel",
          "model_module_version": "1.5.0",
          "state": {
            "_dom_classes": [],
            "_model_module": "@jupyter-widgets/controls",
            "_model_module_version": "1.5.0",
            "_model_name": "HTMLModel",
            "_view_count": null,
            "_view_module": "@jupyter-widgets/controls",
            "_view_module_version": "1.5.0",
            "_view_name": "HTMLView",
            "description": "",
            "description_tooltip": null,
            "layout": "IPY_MODEL_26f417cc53f6418cb8b6950d5bff0467",
            "placeholder": "​",
            "style": "IPY_MODEL_8d66573a487b471d868bb98809a0c7a5",
            "value": " 48.0/48.0 [00:00&lt;00:00, 1.93kB/s]"
          }
        },
        "c23f0227eec14b24b5f1454f5a9f9a2a": {
          "model_module": "@jupyter-widgets/base",
          "model_name": "LayoutModel",
          "model_module_version": "1.2.0",
          "state": {
            "_model_module": "@jupyter-widgets/base",
            "_model_module_version": "1.2.0",
            "_model_name": "LayoutModel",
            "_view_count": null,
            "_view_module": "@jupyter-widgets/base",
            "_view_module_version": "1.2.0",
            "_view_name": "LayoutView",
            "align_content": null,
            "align_items": null,
            "align_self": null,
            "border": null,
            "bottom": null,
            "display": null,
            "flex": null,
            "flex_flow": null,
            "grid_area": null,
            "grid_auto_columns": null,
            "grid_auto_flow": null,
            "grid_auto_rows": null,
            "grid_column": null,
            "grid_gap": null,
            "grid_row": null,
            "grid_template_areas": null,
            "grid_template_columns": null,
            "grid_template_rows": null,
            "height": null,
            "justify_content": null,
            "justify_items": null,
            "left": null,
            "margin": null,
            "max_height": null,
            "max_width": null,
            "min_height": null,
            "min_width": null,
            "object_fit": null,
            "object_position": null,
            "order": null,
            "overflow": null,
            "overflow_x": null,
            "overflow_y": null,
            "padding": null,
            "right": null,
            "top": null,
            "visibility": null,
            "width": null
          }
        },
        "edfbbc3bba064df0810a256b310e03c7": {
          "model_module": "@jupyter-widgets/base",
          "model_name": "LayoutModel",
          "model_module_version": "1.2.0",
          "state": {
            "_model_module": "@jupyter-widgets/base",
            "_model_module_version": "1.2.0",
            "_model_name": "LayoutModel",
            "_view_count": null,
            "_view_module": "@jupyter-widgets/base",
            "_view_module_version": "1.2.0",
            "_view_name": "LayoutView",
            "align_content": null,
            "align_items": null,
            "align_self": null,
            "border": null,
            "bottom": null,
            "display": null,
            "flex": null,
            "flex_flow": null,
            "grid_area": null,
            "grid_auto_columns": null,
            "grid_auto_flow": null,
            "grid_auto_rows": null,
            "grid_column": null,
            "grid_gap": null,
            "grid_row": null,
            "grid_template_areas": null,
            "grid_template_columns": null,
            "grid_template_rows": null,
            "height": null,
            "justify_content": null,
            "justify_items": null,
            "left": null,
            "margin": null,
            "max_height": null,
            "max_width": null,
            "min_height": null,
            "min_width": null,
            "object_fit": null,
            "object_position": null,
            "order": null,
            "overflow": null,
            "overflow_x": null,
            "overflow_y": null,
            "padding": null,
            "right": null,
            "top": null,
            "visibility": null,
            "width": null
          }
        },
        "214b9f70a6704536b74e65ea7e0f57bb": {
          "model_module": "@jupyter-widgets/controls",
          "model_name": "DescriptionStyleModel",
          "model_module_version": "1.5.0",
          "state": {
            "_model_module": "@jupyter-widgets/controls",
            "_model_module_version": "1.5.0",
            "_model_name": "DescriptionStyleModel",
            "_view_count": null,
            "_view_module": "@jupyter-widgets/base",
            "_view_module_version": "1.2.0",
            "_view_name": "StyleView",
            "description_width": ""
          }
        },
        "165f8636573b4653840b075d37090949": {
          "model_module": "@jupyter-widgets/base",
          "model_name": "LayoutModel",
          "model_module_version": "1.2.0",
          "state": {
            "_model_module": "@jupyter-widgets/base",
            "_model_module_version": "1.2.0",
            "_model_name": "LayoutModel",
            "_view_count": null,
            "_view_module": "@jupyter-widgets/base",
            "_view_module_version": "1.2.0",
            "_view_name": "LayoutView",
            "align_content": null,
            "align_items": null,
            "align_self": null,
            "border": null,
            "bottom": null,
            "display": null,
            "flex": null,
            "flex_flow": null,
            "grid_area": null,
            "grid_auto_columns": null,
            "grid_auto_flow": null,
            "grid_auto_rows": null,
            "grid_column": null,
            "grid_gap": null,
            "grid_row": null,
            "grid_template_areas": null,
            "grid_template_columns": null,
            "grid_template_rows": null,
            "height": null,
            "justify_content": null,
            "justify_items": null,
            "left": null,
            "margin": null,
            "max_height": null,
            "max_width": null,
            "min_height": null,
            "min_width": null,
            "object_fit": null,
            "object_position": null,
            "order": null,
            "overflow": null,
            "overflow_x": null,
            "overflow_y": null,
            "padding": null,
            "right": null,
            "top": null,
            "visibility": null,
            "width": null
          }
        },
        "faca2d1bebfd4c9488166348cd3c414c": {
          "model_module": "@jupyter-widgets/controls",
          "model_name": "ProgressStyleModel",
          "model_module_version": "1.5.0",
          "state": {
            "_model_module": "@jupyter-widgets/controls",
            "_model_module_version": "1.5.0",
            "_model_name": "ProgressStyleModel",
            "_view_count": null,
            "_view_module": "@jupyter-widgets/base",
            "_view_module_version": "1.2.0",
            "_view_name": "StyleView",
            "bar_color": null,
            "description_width": ""
          }
        },
        "26f417cc53f6418cb8b6950d5bff0467": {
          "model_module": "@jupyter-widgets/base",
          "model_name": "LayoutModel",
          "model_module_version": "1.2.0",
          "state": {
            "_model_module": "@jupyter-widgets/base",
            "_model_module_version": "1.2.0",
            "_model_name": "LayoutModel",
            "_view_count": null,
            "_view_module": "@jupyter-widgets/base",
            "_view_module_version": "1.2.0",
            "_view_name": "LayoutView",
            "align_content": null,
            "align_items": null,
            "align_self": null,
            "border": null,
            "bottom": null,
            "display": null,
            "flex": null,
            "flex_flow": null,
            "grid_area": null,
            "grid_auto_columns": null,
            "grid_auto_flow": null,
            "grid_auto_rows": null,
            "grid_column": null,
            "grid_gap": null,
            "grid_row": null,
            "grid_template_areas": null,
            "grid_template_columns": null,
            "grid_template_rows": null,
            "height": null,
            "justify_content": null,
            "justify_items": null,
            "left": null,
            "margin": null,
            "max_height": null,
            "max_width": null,
            "min_height": null,
            "min_width": null,
            "object_fit": null,
            "object_position": null,
            "order": null,
            "overflow": null,
            "overflow_x": null,
            "overflow_y": null,
            "padding": null,
            "right": null,
            "top": null,
            "visibility": null,
            "width": null
          }
        },
        "8d66573a487b471d868bb98809a0c7a5": {
          "model_module": "@jupyter-widgets/controls",
          "model_name": "DescriptionStyleModel",
          "model_module_version": "1.5.0",
          "state": {
            "_model_module": "@jupyter-widgets/controls",
            "_model_module_version": "1.5.0",
            "_model_name": "DescriptionStyleModel",
            "_view_count": null,
            "_view_module": "@jupyter-widgets/base",
            "_view_module_version": "1.2.0",
            "_view_name": "StyleView",
            "description_width": ""
          }
        },
        "16e17c228bfc43ed91ae5fdf08cd0a91": {
          "model_module": "@jupyter-widgets/controls",
          "model_name": "HBoxModel",
          "model_module_version": "1.5.0",
          "state": {
            "_dom_classes": [],
            "_model_module": "@jupyter-widgets/controls",
            "_model_module_version": "1.5.0",
            "_model_name": "HBoxModel",
            "_view_count": null,
            "_view_module": "@jupyter-widgets/controls",
            "_view_module_version": "1.5.0",
            "_view_name": "HBoxView",
            "box_style": "",
            "children": [
              "IPY_MODEL_a95043be8894414eaf460c3e8d643d28",
              "IPY_MODEL_d2000d947ae94bd99eb0fbb420cea73b",
              "IPY_MODEL_301ceb8ad822483b8d3042beb77cd092"
            ],
            "layout": "IPY_MODEL_3d2813a68cab4ad59142f0fdbc90c551"
          }
        },
        "a95043be8894414eaf460c3e8d643d28": {
          "model_module": "@jupyter-widgets/controls",
          "model_name": "HTMLModel",
          "model_module_version": "1.5.0",
          "state": {
            "_dom_classes": [],
            "_model_module": "@jupyter-widgets/controls",
            "_model_module_version": "1.5.0",
            "_model_name": "HTMLModel",
            "_view_count": null,
            "_view_module": "@jupyter-widgets/controls",
            "_view_module_version": "1.5.0",
            "_view_name": "HTMLView",
            "description": "",
            "description_tooltip": null,
            "layout": "IPY_MODEL_f2ca6c43e8334de29c9b3b2850147032",
            "placeholder": "​",
            "style": "IPY_MODEL_e7452bc0a7a449bd9bdb7932a081f768",
            "value": "vocab.txt: 100%"
          }
        },
        "d2000d947ae94bd99eb0fbb420cea73b": {
          "model_module": "@jupyter-widgets/controls",
          "model_name": "FloatProgressModel",
          "model_module_version": "1.5.0",
          "state": {
            "_dom_classes": [],
            "_model_module": "@jupyter-widgets/controls",
            "_model_module_version": "1.5.0",
            "_model_name": "FloatProgressModel",
            "_view_count": null,
            "_view_module": "@jupyter-widgets/controls",
            "_view_module_version": "1.5.0",
            "_view_name": "ProgressView",
            "bar_style": "success",
            "description": "",
            "description_tooltip": null,
            "layout": "IPY_MODEL_6937d9f60f714a338ef0dd48dde1cfca",
            "max": 231508,
            "min": 0,
            "orientation": "horizontal",
            "style": "IPY_MODEL_0f068f79071a4d2fa17346053d11c05b",
            "value": 231508
          }
        },
        "301ceb8ad822483b8d3042beb77cd092": {
          "model_module": "@jupyter-widgets/controls",
          "model_name": "HTMLModel",
          "model_module_version": "1.5.0",
          "state": {
            "_dom_classes": [],
            "_model_module": "@jupyter-widgets/controls",
            "_model_module_version": "1.5.0",
            "_model_name": "HTMLModel",
            "_view_count": null,
            "_view_module": "@jupyter-widgets/controls",
            "_view_module_version": "1.5.0",
            "_view_name": "HTMLView",
            "description": "",
            "description_tooltip": null,
            "layout": "IPY_MODEL_48a3e2c96dce49619b300278210e96c4",
            "placeholder": "​",
            "style": "IPY_MODEL_0135658255024f4198f8bd56696fc7b7",
            "value": " 232k/232k [00:00&lt;00:00, 3.77MB/s]"
          }
        },
        "3d2813a68cab4ad59142f0fdbc90c551": {
          "model_module": "@jupyter-widgets/base",
          "model_name": "LayoutModel",
          "model_module_version": "1.2.0",
          "state": {
            "_model_module": "@jupyter-widgets/base",
            "_model_module_version": "1.2.0",
            "_model_name": "LayoutModel",
            "_view_count": null,
            "_view_module": "@jupyter-widgets/base",
            "_view_module_version": "1.2.0",
            "_view_name": "LayoutView",
            "align_content": null,
            "align_items": null,
            "align_self": null,
            "border": null,
            "bottom": null,
            "display": null,
            "flex": null,
            "flex_flow": null,
            "grid_area": null,
            "grid_auto_columns": null,
            "grid_auto_flow": null,
            "grid_auto_rows": null,
            "grid_column": null,
            "grid_gap": null,
            "grid_row": null,
            "grid_template_areas": null,
            "grid_template_columns": null,
            "grid_template_rows": null,
            "height": null,
            "justify_content": null,
            "justify_items": null,
            "left": null,
            "margin": null,
            "max_height": null,
            "max_width": null,
            "min_height": null,
            "min_width": null,
            "object_fit": null,
            "object_position": null,
            "order": null,
            "overflow": null,
            "overflow_x": null,
            "overflow_y": null,
            "padding": null,
            "right": null,
            "top": null,
            "visibility": null,
            "width": null
          }
        },
        "f2ca6c43e8334de29c9b3b2850147032": {
          "model_module": "@jupyter-widgets/base",
          "model_name": "LayoutModel",
          "model_module_version": "1.2.0",
          "state": {
            "_model_module": "@jupyter-widgets/base",
            "_model_module_version": "1.2.0",
            "_model_name": "LayoutModel",
            "_view_count": null,
            "_view_module": "@jupyter-widgets/base",
            "_view_module_version": "1.2.0",
            "_view_name": "LayoutView",
            "align_content": null,
            "align_items": null,
            "align_self": null,
            "border": null,
            "bottom": null,
            "display": null,
            "flex": null,
            "flex_flow": null,
            "grid_area": null,
            "grid_auto_columns": null,
            "grid_auto_flow": null,
            "grid_auto_rows": null,
            "grid_column": null,
            "grid_gap": null,
            "grid_row": null,
            "grid_template_areas": null,
            "grid_template_columns": null,
            "grid_template_rows": null,
            "height": null,
            "justify_content": null,
            "justify_items": null,
            "left": null,
            "margin": null,
            "max_height": null,
            "max_width": null,
            "min_height": null,
            "min_width": null,
            "object_fit": null,
            "object_position": null,
            "order": null,
            "overflow": null,
            "overflow_x": null,
            "overflow_y": null,
            "padding": null,
            "right": null,
            "top": null,
            "visibility": null,
            "width": null
          }
        },
        "e7452bc0a7a449bd9bdb7932a081f768": {
          "model_module": "@jupyter-widgets/controls",
          "model_name": "DescriptionStyleModel",
          "model_module_version": "1.5.0",
          "state": {
            "_model_module": "@jupyter-widgets/controls",
            "_model_module_version": "1.5.0",
            "_model_name": "DescriptionStyleModel",
            "_view_count": null,
            "_view_module": "@jupyter-widgets/base",
            "_view_module_version": "1.2.0",
            "_view_name": "StyleView",
            "description_width": ""
          }
        },
        "6937d9f60f714a338ef0dd48dde1cfca": {
          "model_module": "@jupyter-widgets/base",
          "model_name": "LayoutModel",
          "model_module_version": "1.2.0",
          "state": {
            "_model_module": "@jupyter-widgets/base",
            "_model_module_version": "1.2.0",
            "_model_name": "LayoutModel",
            "_view_count": null,
            "_view_module": "@jupyter-widgets/base",
            "_view_module_version": "1.2.0",
            "_view_name": "LayoutView",
            "align_content": null,
            "align_items": null,
            "align_self": null,
            "border": null,
            "bottom": null,
            "display": null,
            "flex": null,
            "flex_flow": null,
            "grid_area": null,
            "grid_auto_columns": null,
            "grid_auto_flow": null,
            "grid_auto_rows": null,
            "grid_column": null,
            "grid_gap": null,
            "grid_row": null,
            "grid_template_areas": null,
            "grid_template_columns": null,
            "grid_template_rows": null,
            "height": null,
            "justify_content": null,
            "justify_items": null,
            "left": null,
            "margin": null,
            "max_height": null,
            "max_width": null,
            "min_height": null,
            "min_width": null,
            "object_fit": null,
            "object_position": null,
            "order": null,
            "overflow": null,
            "overflow_x": null,
            "overflow_y": null,
            "padding": null,
            "right": null,
            "top": null,
            "visibility": null,
            "width": null
          }
        },
        "0f068f79071a4d2fa17346053d11c05b": {
          "model_module": "@jupyter-widgets/controls",
          "model_name": "ProgressStyleModel",
          "model_module_version": "1.5.0",
          "state": {
            "_model_module": "@jupyter-widgets/controls",
            "_model_module_version": "1.5.0",
            "_model_name": "ProgressStyleModel",
            "_view_count": null,
            "_view_module": "@jupyter-widgets/base",
            "_view_module_version": "1.2.0",
            "_view_name": "StyleView",
            "bar_color": null,
            "description_width": ""
          }
        },
        "48a3e2c96dce49619b300278210e96c4": {
          "model_module": "@jupyter-widgets/base",
          "model_name": "LayoutModel",
          "model_module_version": "1.2.0",
          "state": {
            "_model_module": "@jupyter-widgets/base",
            "_model_module_version": "1.2.0",
            "_model_name": "LayoutModel",
            "_view_count": null,
            "_view_module": "@jupyter-widgets/base",
            "_view_module_version": "1.2.0",
            "_view_name": "LayoutView",
            "align_content": null,
            "align_items": null,
            "align_self": null,
            "border": null,
            "bottom": null,
            "display": null,
            "flex": null,
            "flex_flow": null,
            "grid_area": null,
            "grid_auto_columns": null,
            "grid_auto_flow": null,
            "grid_auto_rows": null,
            "grid_column": null,
            "grid_gap": null,
            "grid_row": null,
            "grid_template_areas": null,
            "grid_template_columns": null,
            "grid_template_rows": null,
            "height": null,
            "justify_content": null,
            "justify_items": null,
            "left": null,
            "margin": null,
            "max_height": null,
            "max_width": null,
            "min_height": null,
            "min_width": null,
            "object_fit": null,
            "object_position": null,
            "order": null,
            "overflow": null,
            "overflow_x": null,
            "overflow_y": null,
            "padding": null,
            "right": null,
            "top": null,
            "visibility": null,
            "width": null
          }
        },
        "0135658255024f4198f8bd56696fc7b7": {
          "model_module": "@jupyter-widgets/controls",
          "model_name": "DescriptionStyleModel",
          "model_module_version": "1.5.0",
          "state": {
            "_model_module": "@jupyter-widgets/controls",
            "_model_module_version": "1.5.0",
            "_model_name": "DescriptionStyleModel",
            "_view_count": null,
            "_view_module": "@jupyter-widgets/base",
            "_view_module_version": "1.2.0",
            "_view_name": "StyleView",
            "description_width": ""
          }
        },
        "d55d1287f2a94b699c8f1742ca3b8e1e": {
          "model_module": "@jupyter-widgets/controls",
          "model_name": "HBoxModel",
          "model_module_version": "1.5.0",
          "state": {
            "_dom_classes": [],
            "_model_module": "@jupyter-widgets/controls",
            "_model_module_version": "1.5.0",
            "_model_name": "HBoxModel",
            "_view_count": null,
            "_view_module": "@jupyter-widgets/controls",
            "_view_module_version": "1.5.0",
            "_view_name": "HBoxView",
            "box_style": "",
            "children": [
              "IPY_MODEL_7a2f1f3bac9648e19b35808365eec9e1",
              "IPY_MODEL_1dcaf4a6771b490588ce3672ed482ad2",
              "IPY_MODEL_fca8b1b8ccec4a01a3c00459707ab5ff"
            ],
            "layout": "IPY_MODEL_dc593b312fc8440f94a5aecd61514426"
          }
        },
        "7a2f1f3bac9648e19b35808365eec9e1": {
          "model_module": "@jupyter-widgets/controls",
          "model_name": "HTMLModel",
          "model_module_version": "1.5.0",
          "state": {
            "_dom_classes": [],
            "_model_module": "@jupyter-widgets/controls",
            "_model_module_version": "1.5.0",
            "_model_name": "HTMLModel",
            "_view_count": null,
            "_view_module": "@jupyter-widgets/controls",
            "_view_module_version": "1.5.0",
            "_view_name": "HTMLView",
            "description": "",
            "description_tooltip": null,
            "layout": "IPY_MODEL_44a057f717e64429b04746360918d35c",
            "placeholder": "​",
            "style": "IPY_MODEL_ab34fe265eea4a39a90c64f541647a87",
            "value": "tokenizer.json: 100%"
          }
        },
        "1dcaf4a6771b490588ce3672ed482ad2": {
          "model_module": "@jupyter-widgets/controls",
          "model_name": "FloatProgressModel",
          "model_module_version": "1.5.0",
          "state": {
            "_dom_classes": [],
            "_model_module": "@jupyter-widgets/controls",
            "_model_module_version": "1.5.0",
            "_model_name": "FloatProgressModel",
            "_view_count": null,
            "_view_module": "@jupyter-widgets/controls",
            "_view_module_version": "1.5.0",
            "_view_name": "ProgressView",
            "bar_style": "success",
            "description": "",
            "description_tooltip": null,
            "layout": "IPY_MODEL_c3a0a41f6b794913908e343e7710f42b",
            "max": 466062,
            "min": 0,
            "orientation": "horizontal",
            "style": "IPY_MODEL_79f3ba218d3e492b826a66f3d344e118",
            "value": 466062
          }
        },
        "fca8b1b8ccec4a01a3c00459707ab5ff": {
          "model_module": "@jupyter-widgets/controls",
          "model_name": "HTMLModel",
          "model_module_version": "1.5.0",
          "state": {
            "_dom_classes": [],
            "_model_module": "@jupyter-widgets/controls",
            "_model_module_version": "1.5.0",
            "_model_name": "HTMLModel",
            "_view_count": null,
            "_view_module": "@jupyter-widgets/controls",
            "_view_module_version": "1.5.0",
            "_view_name": "HTMLView",
            "description": "",
            "description_tooltip": null,
            "layout": "IPY_MODEL_e752097ae2a4449c93668647122c3e42",
            "placeholder": "​",
            "style": "IPY_MODEL_477ee41d43944928bed9415a2e80a3bc",
            "value": " 466k/466k [00:00&lt;00:00, 18.9MB/s]"
          }
        },
        "dc593b312fc8440f94a5aecd61514426": {
          "model_module": "@jupyter-widgets/base",
          "model_name": "LayoutModel",
          "model_module_version": "1.2.0",
          "state": {
            "_model_module": "@jupyter-widgets/base",
            "_model_module_version": "1.2.0",
            "_model_name": "LayoutModel",
            "_view_count": null,
            "_view_module": "@jupyter-widgets/base",
            "_view_module_version": "1.2.0",
            "_view_name": "LayoutView",
            "align_content": null,
            "align_items": null,
            "align_self": null,
            "border": null,
            "bottom": null,
            "display": null,
            "flex": null,
            "flex_flow": null,
            "grid_area": null,
            "grid_auto_columns": null,
            "grid_auto_flow": null,
            "grid_auto_rows": null,
            "grid_column": null,
            "grid_gap": null,
            "grid_row": null,
            "grid_template_areas": null,
            "grid_template_columns": null,
            "grid_template_rows": null,
            "height": null,
            "justify_content": null,
            "justify_items": null,
            "left": null,
            "margin": null,
            "max_height": null,
            "max_width": null,
            "min_height": null,
            "min_width": null,
            "object_fit": null,
            "object_position": null,
            "order": null,
            "overflow": null,
            "overflow_x": null,
            "overflow_y": null,
            "padding": null,
            "right": null,
            "top": null,
            "visibility": null,
            "width": null
          }
        },
        "44a057f717e64429b04746360918d35c": {
          "model_module": "@jupyter-widgets/base",
          "model_name": "LayoutModel",
          "model_module_version": "1.2.0",
          "state": {
            "_model_module": "@jupyter-widgets/base",
            "_model_module_version": "1.2.0",
            "_model_name": "LayoutModel",
            "_view_count": null,
            "_view_module": "@jupyter-widgets/base",
            "_view_module_version": "1.2.0",
            "_view_name": "LayoutView",
            "align_content": null,
            "align_items": null,
            "align_self": null,
            "border": null,
            "bottom": null,
            "display": null,
            "flex": null,
            "flex_flow": null,
            "grid_area": null,
            "grid_auto_columns": null,
            "grid_auto_flow": null,
            "grid_auto_rows": null,
            "grid_column": null,
            "grid_gap": null,
            "grid_row": null,
            "grid_template_areas": null,
            "grid_template_columns": null,
            "grid_template_rows": null,
            "height": null,
            "justify_content": null,
            "justify_items": null,
            "left": null,
            "margin": null,
            "max_height": null,
            "max_width": null,
            "min_height": null,
            "min_width": null,
            "object_fit": null,
            "object_position": null,
            "order": null,
            "overflow": null,
            "overflow_x": null,
            "overflow_y": null,
            "padding": null,
            "right": null,
            "top": null,
            "visibility": null,
            "width": null
          }
        },
        "ab34fe265eea4a39a90c64f541647a87": {
          "model_module": "@jupyter-widgets/controls",
          "model_name": "DescriptionStyleModel",
          "model_module_version": "1.5.0",
          "state": {
            "_model_module": "@jupyter-widgets/controls",
            "_model_module_version": "1.5.0",
            "_model_name": "DescriptionStyleModel",
            "_view_count": null,
            "_view_module": "@jupyter-widgets/base",
            "_view_module_version": "1.2.0",
            "_view_name": "StyleView",
            "description_width": ""
          }
        },
        "c3a0a41f6b794913908e343e7710f42b": {
          "model_module": "@jupyter-widgets/base",
          "model_name": "LayoutModel",
          "model_module_version": "1.2.0",
          "state": {
            "_model_module": "@jupyter-widgets/base",
            "_model_module_version": "1.2.0",
            "_model_name": "LayoutModel",
            "_view_count": null,
            "_view_module": "@jupyter-widgets/base",
            "_view_module_version": "1.2.0",
            "_view_name": "LayoutView",
            "align_content": null,
            "align_items": null,
            "align_self": null,
            "border": null,
            "bottom": null,
            "display": null,
            "flex": null,
            "flex_flow": null,
            "grid_area": null,
            "grid_auto_columns": null,
            "grid_auto_flow": null,
            "grid_auto_rows": null,
            "grid_column": null,
            "grid_gap": null,
            "grid_row": null,
            "grid_template_areas": null,
            "grid_template_columns": null,
            "grid_template_rows": null,
            "height": null,
            "justify_content": null,
            "justify_items": null,
            "left": null,
            "margin": null,
            "max_height": null,
            "max_width": null,
            "min_height": null,
            "min_width": null,
            "object_fit": null,
            "object_position": null,
            "order": null,
            "overflow": null,
            "overflow_x": null,
            "overflow_y": null,
            "padding": null,
            "right": null,
            "top": null,
            "visibility": null,
            "width": null
          }
        },
        "79f3ba218d3e492b826a66f3d344e118": {
          "model_module": "@jupyter-widgets/controls",
          "model_name": "ProgressStyleModel",
          "model_module_version": "1.5.0",
          "state": {
            "_model_module": "@jupyter-widgets/controls",
            "_model_module_version": "1.5.0",
            "_model_name": "ProgressStyleModel",
            "_view_count": null,
            "_view_module": "@jupyter-widgets/base",
            "_view_module_version": "1.2.0",
            "_view_name": "StyleView",
            "bar_color": null,
            "description_width": ""
          }
        },
        "e752097ae2a4449c93668647122c3e42": {
          "model_module": "@jupyter-widgets/base",
          "model_name": "LayoutModel",
          "model_module_version": "1.2.0",
          "state": {
            "_model_module": "@jupyter-widgets/base",
            "_model_module_version": "1.2.0",
            "_model_name": "LayoutModel",
            "_view_count": null,
            "_view_module": "@jupyter-widgets/base",
            "_view_module_version": "1.2.0",
            "_view_name": "LayoutView",
            "align_content": null,
            "align_items": null,
            "align_self": null,
            "border": null,
            "bottom": null,
            "display": null,
            "flex": null,
            "flex_flow": null,
            "grid_area": null,
            "grid_auto_columns": null,
            "grid_auto_flow": null,
            "grid_auto_rows": null,
            "grid_column": null,
            "grid_gap": null,
            "grid_row": null,
            "grid_template_areas": null,
            "grid_template_columns": null,
            "grid_template_rows": null,
            "height": null,
            "justify_content": null,
            "justify_items": null,
            "left": null,
            "margin": null,
            "max_height": null,
            "max_width": null,
            "min_height": null,
            "min_width": null,
            "object_fit": null,
            "object_position": null,
            "order": null,
            "overflow": null,
            "overflow_x": null,
            "overflow_y": null,
            "padding": null,
            "right": null,
            "top": null,
            "visibility": null,
            "width": null
          }
        },
        "477ee41d43944928bed9415a2e80a3bc": {
          "model_module": "@jupyter-widgets/controls",
          "model_name": "DescriptionStyleModel",
          "model_module_version": "1.5.0",
          "state": {
            "_model_module": "@jupyter-widgets/controls",
            "_model_module_version": "1.5.0",
            "_model_name": "DescriptionStyleModel",
            "_view_count": null,
            "_view_module": "@jupyter-widgets/base",
            "_view_module_version": "1.2.0",
            "_view_name": "StyleView",
            "description_width": ""
          }
        }
      }
    }
  },
  "cells": [
    {
      "cell_type": "markdown",
      "source": [
        "#**AML HW 4 Q2 - GROUP 4**"
      ],
      "metadata": {
        "id": "bsPZMcOG_IIc"
      }
    },
    {
      "cell_type": "markdown",
      "source": [
        "**Group members - SHAUN FIGUEIRO,\n",
        "LEAH DSOUZA,\n",
        "ANOUSHKA SHINDE**"
      ],
      "metadata": {
        "id": "HQmci6wC_Rc6"
      }
    },
    {
      "cell_type": "markdown",
      "source": [
        "**Importing Libraries**"
      ],
      "metadata": {
        "id": "j8en-DkD_ix9"
      }
    },
    {
      "cell_type": "code",
      "source": [
        "import numpy as np\n",
        "import pandas as pd\n",
        "import matplotlib.pyplot as plt\n",
        "from tqdm.auto import tqdm\n",
        "import tensorflow as tf\n",
        "from transformers import BertTokenizer\n",
        "from sklearn.model_selection import train_test_split\n",
        "import os\n",
        "import urllib.request\n",
        "from bs4 import BeautifulSoup\n",
        "import time\n",
        "import re\n",
        "from urllib.request import urlopen\n",
        "import requests\n",
        "import nltk\n",
        "from nltk.tokenize import word_tokenize, sent_tokenize"
      ],
      "metadata": {
        "id": "hiZ3WmXZU1xS"
      },
      "execution_count": 2,
      "outputs": []
    },
    {
      "cell_type": "code",
      "source": [
        "from google.colab import drive\n",
        "\n",
        "# Mount Google Drive\n",
        "drive.mount('/content/drive')"
      ],
      "metadata": {
        "colab": {
          "base_uri": "https://localhost:8080/"
        },
        "id": "_VCjAjnc59kb",
        "outputId": "7089c442-9604-4ce2-ffb8-62d48f331dbd"
      },
      "execution_count": 3,
      "outputs": [
        {
          "output_type": "stream",
          "name": "stdout",
          "text": [
            "Mounted at /content/drive\n"
          ]
        }
      ]
    },
    {
      "cell_type": "markdown",
      "source": [
        "**Q1. Create your own dataset for text classification. It should contain at least 2000 words in total and at least three categories with at least 100 examples per category (an example can be a poem or a paragraph from a book). You can create it by scraping the web or using some of the documents you have on your computer (do not use anything confidential) or ChatGPT.**"
      ],
      "metadata": {
        "id": "oQFPWCyD3NOf"
      }
    },
    {
      "cell_type": "code",
      "source": [
        "import csv\n",
        "\n",
        "# Path to the CSV file\n",
        "csv_file = \"/content/drive/MyDrive/AMLHW4/city.csv\"\n",
        "\n",
        "# Creating parent folder\n",
        "parent_folder = \"/content/drive/MyDrive/AMLHW4/city\"\n",
        "os.makedirs(parent_folder, exist_ok=True)\n",
        "\n",
        "# Read categories from CSV and store in text files\n",
        "with open(csv_file, \"r\", newline=\"\", encoding=\"utf-8\") as file:\n",
        "    reader = csv.reader(file)\n",
        "\n",
        "    for index, row in enumerate(reader, start=1):\n",
        "        category = row[0]\n",
        "        filename = f\"{parent_folder}/city_{index}.txt\"\n",
        "        with open(filename, \"w\", encoding=\"utf-8\") as txt_file:\n",
        "            txt_file.write(category)\n",
        "\n",
        "print(\"Text files added in parent folder.\")\n"
      ],
      "metadata": {
        "colab": {
          "base_uri": "https://localhost:8080/"
        },
        "id": "LkuVCByTnHAU",
        "outputId": "b729f1ec-ef78-4dd7-f146-55f6a4290c85"
      },
      "execution_count": 4,
      "outputs": [
        {
          "output_type": "stream",
          "name": "stdout",
          "text": [
            "Text files added in parent folder.\n"
          ]
        }
      ]
    },
    {
      "cell_type": "code",
      "source": [
        "text_files_folder = \"/content/drive/MyDrive/AMLHW4/city\"\n",
        "\n",
        "#empty list to store data\n",
        "data = []\n",
        "\n",
        "total_words = 0\n",
        "\n",
        "for filename in sorted(os.listdir(text_files_folder)):\n",
        "  file_path = os.path.join(text_files_folder, filename)\n",
        "\n",
        "  with open(file_path, \"r\", encoding=\"utf-8\") as file:\n",
        "    document = file.read()\n",
        "\n",
        "  # Extract information from filename\n",
        "  category = filename.split('_')[0]\n",
        "  title = filename.split('.')[0]\n",
        "\n",
        "  # Calculate the number of words\n",
        "  num_words = len(document.split())\n",
        "  total_words += num_words\n",
        "\n",
        "  # Append data to the list\n",
        "  data.append([title, document, category, num_words])\n",
        "\n",
        "#Create a DataFrame from the list\n",
        "df = pd.DataFrame(data, columns=['Title', 'Document', 'Class', 'Num_Words'])\n",
        "\n",
        "# Print the sorted dataset\n",
        "print(\"Sorted Dataset:\")\n",
        "print(df.sort_values(by='Title'))\n",
        "# Print the total number of examples per category\n",
        "total_per_category = df['Class'].value_counts()\n",
        "print(\"\\nTotal Examples per Category:\")\n",
        "print(total_per_category)\n",
        "# Print the number of words per example\n",
        "print(\"\\nNumber of Words per Example:\")\n",
        "print(df[['Title', 'Num_Words']])\n",
        "# Print the total number of words in the entire dataset\n",
        "print(f\"\\nTotal Words in the Dataset: {total_words}\")"
      ],
      "metadata": {
        "colab": {
          "base_uri": "https://localhost:8080/"
        },
        "id": "LxP2yZmTyvp6",
        "outputId": "19c2a43d-8414-4dad-c45e-e45da0fafe96"
      },
      "execution_count": 5,
      "outputs": [
        {
          "output_type": "stream",
          "name": "stdout",
          "text": [
            "Sorted Dataset:\n",
            "       Title                                           Document Class  \\\n",
            "0     city_1  1. New York City: Known as \"The Big Apple,\" fa...  city   \n",
            "1    city_10  10. Rio de Janeiro: Brazil's lively city, know...  city   \n",
            "2   city_100  100. Anchorage: Alaska's largest city, known f...  city   \n",
            "3    city_11  11. Singapore: A modern city-state renowned fo...  city   \n",
            "4    city_12  12. Istanbul: Bridging Europe and Asia, featur...  city   \n",
            "..       ...                                                ...   ...   \n",
            "95   city_95  95. Richmond: Virginia's historic capital, kno...  city   \n",
            "96   city_96  96. Providence: Rhode Island's charming capita...  city   \n",
            "97   city_97  97. Hartford: Connecticut's capital city, know...  city   \n",
            "98   city_98  98. Tallahassee: Florida's capital city, known...  city   \n",
            "99   city_99  99. Boise: Idaho's vibrant capital, known for ...  city   \n",
            "\n",
            "    Num_Words  \n",
            "0          14  \n",
            "1          15  \n",
            "2          18  \n",
            "3          15  \n",
            "4          16  \n",
            "..        ...  \n",
            "95         19  \n",
            "96         17  \n",
            "97         19  \n",
            "98         20  \n",
            "99         17  \n",
            "\n",
            "[100 rows x 4 columns]\n",
            "\n",
            "Total Examples per Category:\n",
            "Class\n",
            "city    100\n",
            "Name: count, dtype: int64\n",
            "\n",
            "Number of Words per Example:\n",
            "       Title  Num_Words\n",
            "0     city_1         14\n",
            "1    city_10         15\n",
            "2   city_100         18\n",
            "3    city_11         15\n",
            "4    city_12         16\n",
            "..       ...        ...\n",
            "95   city_95         19\n",
            "96   city_96         17\n",
            "97   city_97         19\n",
            "98   city_98         20\n",
            "99   city_99         17\n",
            "\n",
            "[100 rows x 2 columns]\n",
            "\n",
            "Total Words in the Dataset: 1591\n"
          ]
        }
      ]
    },
    {
      "cell_type": "code",
      "source": [
        "# Path to the CSV file\n",
        "csv_file = \"/content/drive/MyDrive/AMLHW4/football.csv\"\n",
        "\n",
        "# Create parent folder if it doesn't exist\n",
        "parent_folder = \"/content/drive/MyDrive/AMLHW4/football\"\n",
        "os.makedirs(parent_folder, exist_ok=True)\n",
        "\n",
        "# Read categories from CSV and store in text files\n",
        "with open(csv_file, \"r\", newline=\"\", encoding=\"utf-8\", errors='ignore') as file:\n",
        "    reader = csv.reader(file)\n",
        "\n",
        "    for index, row in enumerate(reader, start=1):\n",
        "        category = row[0]\n",
        "        filename = f\"{parent_folder}/football_{index}.txt\"\n",
        "        with open(filename, \"w\", encoding=\"utf-8\") as txt_file:\n",
        "            txt_file.write(category)\n",
        "\n",
        "print(\"Text files added in parent folder.\")\n"
      ],
      "metadata": {
        "colab": {
          "base_uri": "https://localhost:8080/"
        },
        "id": "I-aCnejX0_C8",
        "outputId": "1f764c30-805f-4c85-d81e-1696c8181b98"
      },
      "execution_count": 6,
      "outputs": [
        {
          "output_type": "stream",
          "name": "stdout",
          "text": [
            "Text files added in parent folder.\n"
          ]
        }
      ]
    },
    {
      "cell_type": "code",
      "source": [
        "text_files_folder = \"/content/drive/MyDrive/AMLHW4/football\"\n",
        "\n",
        "#empty list to store data\n",
        "data = []\n",
        "total_words = 0\n",
        "\n",
        "for filename in sorted(os.listdir(text_files_folder)):\n",
        "  file_path = os.path.join(text_files_folder, filename)\n",
        "\n",
        "  with open(file_path, \"r\", encoding=\"utf-8\") as file:\n",
        "    document = file.read()\n",
        "\n",
        "  # Extract information from filename\n",
        "  category = filename.split('_')[0]\n",
        "  title = filename.split('.')[0]\n",
        "\n",
        "  # Calculate the number of words\n",
        "  num_words = len(document.split())\n",
        "  total_words += num_words\n",
        "\n",
        "  # Append data to the list\n",
        "  data.append([title, document, category, num_words])\n",
        "\n",
        "#Create a DataFrame from the list\n",
        "df = pd.DataFrame(data, columns=['Title', 'Document', 'Class', 'Num_Words'])\n",
        "# Print the sorted dataset\n",
        "print(\"Sorted Dataset:\")\n",
        "print(df.sort_values(by='Title'))\n",
        "# Print the total number of examples per category\n",
        "total_per_category = df['Class'].value_counts()\n",
        "print(\"\\nTotal Examples per Category:\")\n",
        "print(total_per_category)\n",
        "# Print the number of words per example\n",
        "print(\"\\nNumber of Words per Example:\")\n",
        "print(df[['Title', 'Num_Words']])\n",
        "# Print the total number of words in the entire dataset\n",
        "print(f\"\\nTotal Words in the Dataset: {total_words}\")"
      ],
      "metadata": {
        "colab": {
          "base_uri": "https://localhost:8080/"
        },
        "id": "fjKqyLci5h7v",
        "outputId": "9b7e3c06-9e8e-426d-d87a-06eae143807d"
      },
      "execution_count": 7,
      "outputs": [
        {
          "output_type": "stream",
          "name": "stdout",
          "text": [
            "Sorted Dataset:\n",
            "           Title                                           Document     Class  \\\n",
            "0     football_1  1. Lionel Messi: The Argentine maestro is wide...  football   \n",
            "1    football_10  10. Sergio Ramos: The Spanish defender is know...  football   \n",
            "2   football_100  100. Lucas Hernandez: The French defender is k...  football   \n",
            "3    football_11  11. Virgil van Dijk: The Dutch defender is wid...  football   \n",
            "4    football_12  12. Luka Modric: The Croatian midfielder is kn...  football   \n",
            "..           ...                                                ...       ...   \n",
            "95   football_95  95. Lautaro Martinez: The Argentine striker is...  football   \n",
            "96   football_96  96. Nicol Barella: The Italian midfielder is k...  football   \n",
            "97   football_97  97. Pedro Goncalves: The Portuguese midfielder...  football   \n",
            "98   football_98  98. Matheus Cunha: The Brazilian forward is kn...  football   \n",
            "99   football_99  99. Jules Kounde: The French defender is known...  football   \n",
            "\n",
            "    Num_Words  \n",
            "0          58  \n",
            "1          51  \n",
            "2          40  \n",
            "3          57  \n",
            "4          67  \n",
            "..        ...  \n",
            "95         31  \n",
            "96         43  \n",
            "97         32  \n",
            "98         40  \n",
            "99         34  \n",
            "\n",
            "[100 rows x 4 columns]\n",
            "\n",
            "Total Examples per Category:\n",
            "Class\n",
            "football    100\n",
            "Name: count, dtype: int64\n",
            "\n",
            "Number of Words per Example:\n",
            "           Title  Num_Words\n",
            "0     football_1         58\n",
            "1    football_10         51\n",
            "2   football_100         40\n",
            "3    football_11         57\n",
            "4    football_12         67\n",
            "..           ...        ...\n",
            "95   football_95         31\n",
            "96   football_96         43\n",
            "97   football_97         32\n",
            "98   football_98         40\n",
            "99   football_99         34\n",
            "\n",
            "[100 rows x 2 columns]\n",
            "\n",
            "Total Words in the Dataset: 4293\n"
          ]
        }
      ]
    },
    {
      "cell_type": "code",
      "source": [
        "# Path to the CSV file\n",
        "csv_file = \"/content/drive/MyDrive/AMLHW4/books.csv\"\n",
        "\n",
        "# Create parent folder if it doesn't exist\n",
        "parent_folder = \"/content/drive/MyDrive/AMLHW4/books\"\n",
        "os.makedirs(parent_folder, exist_ok=True)\n",
        "\n",
        "# Read categories from CSV and store in text files\n",
        "with open(csv_file, \"r\", newline=\"\", encoding=\"utf-8\", errors='ignore') as file:\n",
        "    reader = csv.reader(file)\n",
        "\n",
        "    for index, row in enumerate(reader, start=1):\n",
        "        category = row[0]\n",
        "        filename = f\"{parent_folder}/books_{index}.txt\"\n",
        "        with open(filename, \"w\", encoding=\"utf-8\") as txt_file:\n",
        "            txt_file.write(category)\n",
        "\n",
        "print(\"Text files added in parent folder.\")\n"
      ],
      "metadata": {
        "colab": {
          "base_uri": "https://localhost:8080/"
        },
        "id": "5Ew6y4bIru3A",
        "outputId": "7987a166-6aa7-4a02-d333-f4ce69db934b"
      },
      "execution_count": 9,
      "outputs": [
        {
          "output_type": "stream",
          "name": "stdout",
          "text": [
            "Text files added in parent folder.\n"
          ]
        }
      ]
    },
    {
      "cell_type": "code",
      "source": [
        "text_files_folder = \"/content/drive/MyDrive/AMLHW4/books\"\n",
        "\n",
        "data = []\n",
        "\n",
        "total_words = 0\n",
        "\n",
        "for filename in sorted(os.listdir(text_files_folder)):\n",
        "  file_path = os.path.join(text_files_folder, filename)\n",
        "\n",
        "  with open(file_path, \"r\", encoding=\"utf-8\") as file:\n",
        "    document = file.read()\n",
        "\n",
        "  # Extract information from filename\n",
        "  category = filename.split('_')[0]\n",
        "  title = filename.split('.')[0]\n",
        "\n",
        "  # Calculate the number of words\n",
        "  num_words = len(document.split())\n",
        "  total_words += num_words\n",
        "\n",
        "  # Append data to the list\n",
        "  data.append([title, document, category, num_words])\n",
        "\n",
        "#Create a DataFrame from the list\n",
        "df = pd.DataFrame(data, columns=['Title', 'Document', 'Class', 'Num_Words'])\n",
        "# Print the sorted dataset\n",
        "print(\"Sorted Dataset:\")\n",
        "print(df.sort_values(by='Title'))\n",
        "# Print the total number of examples per category\n",
        "total_per_category = df['Class'].value_counts()\n",
        "print(\"\\nTotal Examples per Category:\")\n",
        "print(total_per_category)\n",
        "# Print the number of words per example\n",
        "print(\"\\nNumber of Words per Example:\")\n",
        "print(df[['Title', 'Num_Words']])\n",
        "# Print the total number of words in the entire dataset\n",
        "print(f\"\\nTotal Words in the Dataset: {total_words}\")"
      ],
      "metadata": {
        "colab": {
          "base_uri": "https://localhost:8080/"
        },
        "id": "KaLfbXw8suYE",
        "outputId": "6d0e7f56-1159-485a-ab6f-55b9bcbfd8d3"
      },
      "execution_count": 10,
      "outputs": [
        {
          "output_type": "stream",
          "name": "stdout",
          "text": [
            "Sorted Dataset:\n",
            "        Title                                           Document  Class  \\\n",
            "0     books_1  1. \"To Kill a Mockingbird\" by Harper Lee: A cl...  books   \n",
            "1    books_10  10. \"The Lord of the Rings\" by J.R.R. Tolkien:...  books   \n",
            "2   books_100  100. \"White Teeth\" by Zadie Smith: A novel tha...  books   \n",
            "3    books_11  11. \"Brave New World\" by Aldous Huxley: A dyst...  books   \n",
            "4    books_12  12. \"Jane Eyre\" by Charlotte Bront: A bildungs...  books   \n",
            "..        ...                                                ...    ...   \n",
            "95   books_95  95. \"The Hate U Give\" by Angie Thomas: A young...  books   \n",
            "96   books_96  96. \"Sapiens: A Brief History of Humankind\" by...  books   \n",
            "97   books_97  97. \"The Book of Mormon: Another Testament of ...  books   \n",
            "98   books_98  98. \"The Hitchhiker's Guide to the Galaxy\" by ...  books   \n",
            "99   books_99  99. \"The Sun Also Rises\" by Ernest Hemingway: ...  books   \n",
            "\n",
            "    Num_Words  \n",
            "0          31  \n",
            "1          35  \n",
            "2          31  \n",
            "3          28  \n",
            "4          25  \n",
            "..        ...  \n",
            "95         34  \n",
            "96         39  \n",
            "97         38  \n",
            "98         33  \n",
            "99         39  \n",
            "\n",
            "[100 rows x 4 columns]\n",
            "\n",
            "Total Examples per Category:\n",
            "Class\n",
            "books    100\n",
            "Name: count, dtype: int64\n",
            "\n",
            "Number of Words per Example:\n",
            "        Title  Num_Words\n",
            "0     books_1         31\n",
            "1    books_10         35\n",
            "2   books_100         31\n",
            "3    books_11         28\n",
            "4    books_12         25\n",
            "..        ...        ...\n",
            "95   books_95         34\n",
            "96   books_96         39\n",
            "97   books_97         38\n",
            "98   books_98         33\n",
            "99   books_99         39\n",
            "\n",
            "[100 rows x 2 columns]\n",
            "\n",
            "Total Words in the Dataset: 3237\n"
          ]
        }
      ]
    },
    {
      "cell_type": "code",
      "source": [
        "#printing contents from Football folder\n",
        "football = \"/content/drive/MyDrive/AMLHW4/football\"\n",
        "\n",
        "def read_text_file(file_path):\n",
        "  with open(file_path, \"r\", encoding=\"utf-8\") as file:\n",
        "    return file.read()\n",
        "\n",
        "# Print one file\n",
        "filename = os.listdir(football)[0]\n",
        "file_path = os.path.join(football, filename)\n",
        "football_document = read_text_file(file_path)\n",
        "\n",
        "print(f\"\\nContent of a file from football text file({filename}):\")\n",
        "print(football_document)"
      ],
      "metadata": {
        "colab": {
          "base_uri": "https://localhost:8080/"
        },
        "id": "7LqIZ4kCwwGf",
        "outputId": "c1b47795-7ff0-4446-bb05-3eb3d41cc0d8"
      },
      "execution_count": 11,
      "outputs": [
        {
          "output_type": "stream",
          "name": "stdout",
          "text": [
            "\n",
            "Content of a file from football text file(football_1.txt):\n",
            "1. Lionel Messi: The Argentine maestro is widely regarded as one of the greatest footballers of all time. Known for his incredible dribbling skills, vision, and precise finishing, Messi has won numerous individual awards, including multiple Ballon d'Or titles. Throughout his career at Barcelona and Paris Saint-Germain, he has shattered records and mesmerized fans with his extraordinary talent.\n"
          ]
        }
      ]
    },
    {
      "cell_type": "code",
      "source": [
        "#printing contents from books folder\n",
        "books = \"/content/drive/MyDrive/AMLHW4/books\"\n",
        "books_filename = os.listdir(books)[0]\n",
        "books_file_path = os.path.join(books, books_filename)\n",
        "books_document = read_text_file(books_file_path)\n",
        "print(f\"Content of a file from book text file ({books_filename}):\")\n",
        "print(books_document)"
      ],
      "metadata": {
        "colab": {
          "base_uri": "https://localhost:8080/"
        },
        "id": "E01xSxwyxmGi",
        "outputId": "537775ff-6acb-4445-dee2-62a67f70fb18"
      },
      "execution_count": 12,
      "outputs": [
        {
          "output_type": "stream",
          "name": "stdout",
          "text": [
            "Content of a file from book text file (books_1.txt):\n",
            "1. \"To Kill a Mockingbird\" by Harper Lee: A classic novel set in the American South, addressing themes of racial injustice and moral growth through the eyes of young Scout Finch.\n"
          ]
        }
      ]
    },
    {
      "cell_type": "code",
      "source": [
        "#printing contents from city folder\n",
        "city = \"/content/drive/MyDrive/AMLHW4/city\"\n",
        "city_filename = os.listdir(city)[0]\n",
        "city_file_path = os.path.join(city, city_filename)\n",
        "city_document = read_text_file(city_file_path)\n",
        "print(f\"Content of a file from city text file ({city_filename}):\")\n",
        "print(city_document)"
      ],
      "metadata": {
        "colab": {
          "base_uri": "https://localhost:8080/"
        },
        "id": "rwQXs89aytlZ",
        "outputId": "e397571e-5a00-4a98-f8d0-9b9b5a206b85"
      },
      "execution_count": 13,
      "outputs": [
        {
          "output_type": "stream",
          "name": "stdout",
          "text": [
            "Content of a file from city text file (city_1.txt):\n",
            "1. New York City: Known as \"The Big Apple,\" famous for its iconic skyline.\n"
          ]
        }
      ]
    },
    {
      "cell_type": "markdown",
      "source": [
        "**Combining the datasets**"
      ],
      "metadata": {
        "id": "hDYvu-Syv-7Q"
      }
    },
    {
      "cell_type": "code",
      "source": [
        "#empty list to store data\n",
        "data = []\n",
        "\n",
        "# Iterate through each file in the football folder\n",
        "for filename in sorted(os.listdir(football)):\n",
        "  file_path = os.path.join(football, filename)\n",
        "  document = read_text_file(file_path)\n",
        "  category = filename.split('_')[0]\n",
        "  title = filename.split('.')[0]\n",
        "  data.append([title, document, category])\n",
        "\n",
        "\n",
        "# Iterate through each file in the books folder\n",
        "for filename in sorted(os.listdir(books)):\n",
        "  file_path = os.path.join(books, filename)\n",
        "  document = read_text_file(file_path)\n",
        "  category = filename.split('_')[0]\n",
        "  title = filename.split('.')[0]\n",
        "  data.append([title, document, category])\n",
        "\n",
        "# Iterate through each file in the city folder\n",
        "for filename in sorted(os.listdir(city)):\n",
        "  file_path = os.path.join(city, filename)\n",
        "  document = read_text_file(file_path)\n",
        "  category = filename.split('_')[0]\n",
        "  title = filename.split('.')[0]\n",
        "  data.append([title, document, category])\n",
        "\n",
        "# Create a DataFrame from the list\n",
        "combined_df = pd.DataFrame(data, columns=['Title', 'Document', 'Class'])\n",
        "\n",
        "# Print the combined dataset\n",
        "print(\"Combined Dataset:\")\n",
        "print(combined_df.head())"
      ],
      "metadata": {
        "colab": {
          "base_uri": "https://localhost:8080/"
        },
        "id": "4EQddyRuwEc3",
        "outputId": "1700ba89-73b0-4f0f-a585-081f74991151"
      },
      "execution_count": 14,
      "outputs": [
        {
          "output_type": "stream",
          "name": "stdout",
          "text": [
            "Combined Dataset:\n",
            "          Title                                           Document     Class\n",
            "0    football_1  1. Lionel Messi: The Argentine maestro is wide...  football\n",
            "1   football_10  10. Sergio Ramos: The Spanish defender is know...  football\n",
            "2  football_100  100. Lucas Hernandez: The French defender is k...  football\n",
            "3   football_11  11. Virgil van Dijk: The Dutch defender is wid...  football\n",
            "4   football_12  12. Luka Modric: The Croatian midfielder is kn...  football\n"
          ]
        }
      ]
    },
    {
      "cell_type": "markdown",
      "source": [
        "**Q2. Split the dataset into training (at least 240examples) and test (at least 60 examples) sets.**"
      ],
      "metadata": {
        "id": "1K_Fp0HtGSH-"
      }
    },
    {
      "cell_type": "code",
      "source": [
        "from sklearn.model_selection import train_test_split\n",
        "\n",
        "# Split the dataset into training (80%) and test (20%) sets\n",
        "train_df, test_df = train_test_split(combined_df, test_size=0.2, random_state=42)\n",
        "\n",
        "# Print the shapes of the training and test sets\n",
        "print(\"Training set shape:\", train_df.shape)\n",
        "print(\"Test set shape:\", test_df.shape)"
      ],
      "metadata": {
        "colab": {
          "base_uri": "https://localhost:8080/"
        },
        "id": "LAVzSFL91VPb",
        "outputId": "f85d1d52-f420-4d05-862f-0ad34e12ee25"
      },
      "execution_count": 15,
      "outputs": [
        {
          "output_type": "stream",
          "name": "stdout",
          "text": [
            "Training set shape: (240, 3)\n",
            "Test set shape: (60, 3)\n"
          ]
        }
      ]
    },
    {
      "cell_type": "markdown",
      "source": [
        "**Q3. Fine-tune a pre-trained language model capable of generating text (e.g., GPT) that you can take, e.g., from the Hugging Face Transformers library with the dataset you created (this tutorial could be very helpful: https://huggingface.co/docs/transformers/training). [20 points] Report the testv accuracy [5 points]. Discuss what could be done to improve accuracy [5 points].**\n"
      ],
      "metadata": {
        "id": "6Mlm6M4e12ug"
      }
    },
    {
      "cell_type": "code",
      "source": [
        "!pip install accelerate==0.20.1\n",
        "!pip install transformers[torch]\n",
        "\n",
        "import torch\n",
        "from torch.utils.data import DataLoader, Dataset\n",
        "from transformers import BertTokenizer, BertForSequenceClassification, AdamW\n",
        "from sklearn.model_selection import train_test_split\n",
        "from sklearn.preprocessing import LabelEncoder\n",
        "from sklearn.metrics import accuracy_score\n",
        "from tqdm import tqdm"
      ],
      "metadata": {
        "colab": {
          "base_uri": "https://localhost:8080/"
        },
        "id": "2IDuc0mMaWFc",
        "outputId": "61e259d2-8ab0-4e60-d65b-20b25626c4e2"
      },
      "execution_count": 16,
      "outputs": [
        {
          "output_type": "stream",
          "name": "stdout",
          "text": [
            "Collecting accelerate==0.20.1\n",
            "  Downloading accelerate-0.20.1-py3-none-any.whl (227 kB)\n",
            "\u001b[2K     \u001b[90m━━━━━━━━━━━━━━━━━━━━━━━━━━━━━━━━━━━━━━━━\u001b[0m \u001b[32m227.5/227.5 kB\u001b[0m \u001b[31m2.4 MB/s\u001b[0m eta \u001b[36m0:00:00\u001b[0m\n",
            "\u001b[?25hRequirement already satisfied: numpy>=1.17 in /usr/local/lib/python3.10/dist-packages (from accelerate==0.20.1) (1.25.2)\n",
            "Requirement already satisfied: packaging>=20.0 in /usr/local/lib/python3.10/dist-packages (from accelerate==0.20.1) (24.0)\n",
            "Requirement already satisfied: psutil in /usr/local/lib/python3.10/dist-packages (from accelerate==0.20.1) (5.9.5)\n",
            "Requirement already satisfied: pyyaml in /usr/local/lib/python3.10/dist-packages (from accelerate==0.20.1) (6.0.1)\n",
            "Requirement already satisfied: torch>=1.6.0 in /usr/local/lib/python3.10/dist-packages (from accelerate==0.20.1) (2.2.1+cu121)\n",
            "Requirement already satisfied: filelock in /usr/local/lib/python3.10/dist-packages (from torch>=1.6.0->accelerate==0.20.1) (3.13.4)\n",
            "Requirement already satisfied: typing-extensions>=4.8.0 in /usr/local/lib/python3.10/dist-packages (from torch>=1.6.0->accelerate==0.20.1) (4.11.0)\n",
            "Requirement already satisfied: sympy in /usr/local/lib/python3.10/dist-packages (from torch>=1.6.0->accelerate==0.20.1) (1.12)\n",
            "Requirement already satisfied: networkx in /usr/local/lib/python3.10/dist-packages (from torch>=1.6.0->accelerate==0.20.1) (3.3)\n",
            "Requirement already satisfied: jinja2 in /usr/local/lib/python3.10/dist-packages (from torch>=1.6.0->accelerate==0.20.1) (3.1.3)\n",
            "Requirement already satisfied: fsspec in /usr/local/lib/python3.10/dist-packages (from torch>=1.6.0->accelerate==0.20.1) (2023.6.0)\n",
            "Collecting nvidia-cuda-nvrtc-cu12==12.1.105 (from torch>=1.6.0->accelerate==0.20.1)\n",
            "  Using cached nvidia_cuda_nvrtc_cu12-12.1.105-py3-none-manylinux1_x86_64.whl (23.7 MB)\n",
            "Collecting nvidia-cuda-runtime-cu12==12.1.105 (from torch>=1.6.0->accelerate==0.20.1)\n",
            "  Using cached nvidia_cuda_runtime_cu12-12.1.105-py3-none-manylinux1_x86_64.whl (823 kB)\n",
            "Collecting nvidia-cuda-cupti-cu12==12.1.105 (from torch>=1.6.0->accelerate==0.20.1)\n",
            "  Using cached nvidia_cuda_cupti_cu12-12.1.105-py3-none-manylinux1_x86_64.whl (14.1 MB)\n",
            "Collecting nvidia-cudnn-cu12==8.9.2.26 (from torch>=1.6.0->accelerate==0.20.1)\n",
            "  Using cached nvidia_cudnn_cu12-8.9.2.26-py3-none-manylinux1_x86_64.whl (731.7 MB)\n",
            "Collecting nvidia-cublas-cu12==12.1.3.1 (from torch>=1.6.0->accelerate==0.20.1)\n",
            "  Using cached nvidia_cublas_cu12-12.1.3.1-py3-none-manylinux1_x86_64.whl (410.6 MB)\n",
            "Collecting nvidia-cufft-cu12==11.0.2.54 (from torch>=1.6.0->accelerate==0.20.1)\n",
            "  Using cached nvidia_cufft_cu12-11.0.2.54-py3-none-manylinux1_x86_64.whl (121.6 MB)\n",
            "Collecting nvidia-curand-cu12==10.3.2.106 (from torch>=1.6.0->accelerate==0.20.1)\n",
            "  Using cached nvidia_curand_cu12-10.3.2.106-py3-none-manylinux1_x86_64.whl (56.5 MB)\n",
            "Collecting nvidia-cusolver-cu12==11.4.5.107 (from torch>=1.6.0->accelerate==0.20.1)\n",
            "  Using cached nvidia_cusolver_cu12-11.4.5.107-py3-none-manylinux1_x86_64.whl (124.2 MB)\n",
            "Collecting nvidia-cusparse-cu12==12.1.0.106 (from torch>=1.6.0->accelerate==0.20.1)\n",
            "  Using cached nvidia_cusparse_cu12-12.1.0.106-py3-none-manylinux1_x86_64.whl (196.0 MB)\n",
            "Collecting nvidia-nccl-cu12==2.19.3 (from torch>=1.6.0->accelerate==0.20.1)\n",
            "  Using cached nvidia_nccl_cu12-2.19.3-py3-none-manylinux1_x86_64.whl (166.0 MB)\n",
            "Collecting nvidia-nvtx-cu12==12.1.105 (from torch>=1.6.0->accelerate==0.20.1)\n",
            "  Using cached nvidia_nvtx_cu12-12.1.105-py3-none-manylinux1_x86_64.whl (99 kB)\n",
            "Requirement already satisfied: triton==2.2.0 in /usr/local/lib/python3.10/dist-packages (from torch>=1.6.0->accelerate==0.20.1) (2.2.0)\n",
            "Collecting nvidia-nvjitlink-cu12 (from nvidia-cusolver-cu12==11.4.5.107->torch>=1.6.0->accelerate==0.20.1)\n",
            "  Using cached nvidia_nvjitlink_cu12-12.4.127-py3-none-manylinux2014_x86_64.whl (21.1 MB)\n",
            "Requirement already satisfied: MarkupSafe>=2.0 in /usr/local/lib/python3.10/dist-packages (from jinja2->torch>=1.6.0->accelerate==0.20.1) (2.1.5)\n",
            "Requirement already satisfied: mpmath>=0.19 in /usr/local/lib/python3.10/dist-packages (from sympy->torch>=1.6.0->accelerate==0.20.1) (1.3.0)\n",
            "Installing collected packages: nvidia-nvtx-cu12, nvidia-nvjitlink-cu12, nvidia-nccl-cu12, nvidia-curand-cu12, nvidia-cufft-cu12, nvidia-cuda-runtime-cu12, nvidia-cuda-nvrtc-cu12, nvidia-cuda-cupti-cu12, nvidia-cublas-cu12, nvidia-cusparse-cu12, nvidia-cudnn-cu12, nvidia-cusolver-cu12, accelerate\n",
            "Successfully installed accelerate-0.20.1 nvidia-cublas-cu12-12.1.3.1 nvidia-cuda-cupti-cu12-12.1.105 nvidia-cuda-nvrtc-cu12-12.1.105 nvidia-cuda-runtime-cu12-12.1.105 nvidia-cudnn-cu12-8.9.2.26 nvidia-cufft-cu12-11.0.2.54 nvidia-curand-cu12-10.3.2.106 nvidia-cusolver-cu12-11.4.5.107 nvidia-cusparse-cu12-12.1.0.106 nvidia-nccl-cu12-2.19.3 nvidia-nvjitlink-cu12-12.4.127 nvidia-nvtx-cu12-12.1.105\n",
            "Requirement already satisfied: transformers[torch] in /usr/local/lib/python3.10/dist-packages (4.40.0)\n",
            "Requirement already satisfied: filelock in /usr/local/lib/python3.10/dist-packages (from transformers[torch]) (3.13.4)\n",
            "Requirement already satisfied: huggingface-hub<1.0,>=0.19.3 in /usr/local/lib/python3.10/dist-packages (from transformers[torch]) (0.20.3)\n",
            "Requirement already satisfied: numpy>=1.17 in /usr/local/lib/python3.10/dist-packages (from transformers[torch]) (1.25.2)\n",
            "Requirement already satisfied: packaging>=20.0 in /usr/local/lib/python3.10/dist-packages (from transformers[torch]) (24.0)\n",
            "Requirement already satisfied: pyyaml>=5.1 in /usr/local/lib/python3.10/dist-packages (from transformers[torch]) (6.0.1)\n",
            "Requirement already satisfied: regex!=2019.12.17 in /usr/local/lib/python3.10/dist-packages (from transformers[torch]) (2023.12.25)\n",
            "Requirement already satisfied: requests in /usr/local/lib/python3.10/dist-packages (from transformers[torch]) (2.31.0)\n",
            "Requirement already satisfied: tokenizers<0.20,>=0.19 in /usr/local/lib/python3.10/dist-packages (from transformers[torch]) (0.19.1)\n",
            "Requirement already satisfied: safetensors>=0.4.1 in /usr/local/lib/python3.10/dist-packages (from transformers[torch]) (0.4.3)\n",
            "Requirement already satisfied: tqdm>=4.27 in /usr/local/lib/python3.10/dist-packages (from transformers[torch]) (4.66.2)\n",
            "Requirement already satisfied: torch in /usr/local/lib/python3.10/dist-packages (from transformers[torch]) (2.2.1+cu121)\n",
            "Collecting accelerate>=0.21.0 (from transformers[torch])\n",
            "  Downloading accelerate-0.29.3-py3-none-any.whl (297 kB)\n",
            "\u001b[2K     \u001b[90m━━━━━━━━━━━━━━━━━━━━━━━━━━━━━━━━━━━━━━━━\u001b[0m \u001b[32m297.6/297.6 kB\u001b[0m \u001b[31m2.5 MB/s\u001b[0m eta \u001b[36m0:00:00\u001b[0m\n",
            "\u001b[?25hRequirement already satisfied: psutil in /usr/local/lib/python3.10/dist-packages (from accelerate>=0.21.0->transformers[torch]) (5.9.5)\n",
            "Requirement already satisfied: fsspec>=2023.5.0 in /usr/local/lib/python3.10/dist-packages (from huggingface-hub<1.0,>=0.19.3->transformers[torch]) (2023.6.0)\n",
            "Requirement already satisfied: typing-extensions>=3.7.4.3 in /usr/local/lib/python3.10/dist-packages (from huggingface-hub<1.0,>=0.19.3->transformers[torch]) (4.11.0)\n",
            "Requirement already satisfied: sympy in /usr/local/lib/python3.10/dist-packages (from torch->transformers[torch]) (1.12)\n",
            "Requirement already satisfied: networkx in /usr/local/lib/python3.10/dist-packages (from torch->transformers[torch]) (3.3)\n",
            "Requirement already satisfied: jinja2 in /usr/local/lib/python3.10/dist-packages (from torch->transformers[torch]) (3.1.3)\n",
            "Requirement already satisfied: nvidia-cuda-nvrtc-cu12==12.1.105 in /usr/local/lib/python3.10/dist-packages (from torch->transformers[torch]) (12.1.105)\n",
            "Requirement already satisfied: nvidia-cuda-runtime-cu12==12.1.105 in /usr/local/lib/python3.10/dist-packages (from torch->transformers[torch]) (12.1.105)\n",
            "Requirement already satisfied: nvidia-cuda-cupti-cu12==12.1.105 in /usr/local/lib/python3.10/dist-packages (from torch->transformers[torch]) (12.1.105)\n",
            "Requirement already satisfied: nvidia-cudnn-cu12==8.9.2.26 in /usr/local/lib/python3.10/dist-packages (from torch->transformers[torch]) (8.9.2.26)\n",
            "Requirement already satisfied: nvidia-cublas-cu12==12.1.3.1 in /usr/local/lib/python3.10/dist-packages (from torch->transformers[torch]) (12.1.3.1)\n",
            "Requirement already satisfied: nvidia-cufft-cu12==11.0.2.54 in /usr/local/lib/python3.10/dist-packages (from torch->transformers[torch]) (11.0.2.54)\n",
            "Requirement already satisfied: nvidia-curand-cu12==10.3.2.106 in /usr/local/lib/python3.10/dist-packages (from torch->transformers[torch]) (10.3.2.106)\n",
            "Requirement already satisfied: nvidia-cusolver-cu12==11.4.5.107 in /usr/local/lib/python3.10/dist-packages (from torch->transformers[torch]) (11.4.5.107)\n",
            "Requirement already satisfied: nvidia-cusparse-cu12==12.1.0.106 in /usr/local/lib/python3.10/dist-packages (from torch->transformers[torch]) (12.1.0.106)\n",
            "Requirement already satisfied: nvidia-nccl-cu12==2.19.3 in /usr/local/lib/python3.10/dist-packages (from torch->transformers[torch]) (2.19.3)\n",
            "Requirement already satisfied: nvidia-nvtx-cu12==12.1.105 in /usr/local/lib/python3.10/dist-packages (from torch->transformers[torch]) (12.1.105)\n",
            "Requirement already satisfied: triton==2.2.0 in /usr/local/lib/python3.10/dist-packages (from torch->transformers[torch]) (2.2.0)\n",
            "Requirement already satisfied: nvidia-nvjitlink-cu12 in /usr/local/lib/python3.10/dist-packages (from nvidia-cusolver-cu12==11.4.5.107->torch->transformers[torch]) (12.4.127)\n",
            "Requirement already satisfied: charset-normalizer<4,>=2 in /usr/local/lib/python3.10/dist-packages (from requests->transformers[torch]) (3.3.2)\n",
            "Requirement already satisfied: idna<4,>=2.5 in /usr/local/lib/python3.10/dist-packages (from requests->transformers[torch]) (3.7)\n",
            "Requirement already satisfied: urllib3<3,>=1.21.1 in /usr/local/lib/python3.10/dist-packages (from requests->transformers[torch]) (2.0.7)\n",
            "Requirement already satisfied: certifi>=2017.4.17 in /usr/local/lib/python3.10/dist-packages (from requests->transformers[torch]) (2024.2.2)\n",
            "Requirement already satisfied: MarkupSafe>=2.0 in /usr/local/lib/python3.10/dist-packages (from jinja2->torch->transformers[torch]) (2.1.5)\n",
            "Requirement already satisfied: mpmath>=0.19 in /usr/local/lib/python3.10/dist-packages (from sympy->torch->transformers[torch]) (1.3.0)\n",
            "Installing collected packages: accelerate\n",
            "  Attempting uninstall: accelerate\n",
            "    Found existing installation: accelerate 0.20.1\n",
            "    Uninstalling accelerate-0.20.1:\n",
            "      Successfully uninstalled accelerate-0.20.1\n",
            "Successfully installed accelerate-0.29.3\n"
          ]
        }
      ]
    },
    {
      "cell_type": "markdown",
      "source": [
        "**Uning a label encoder**"
      ],
      "metadata": {
        "id": "hCbMLlVlG04T"
      }
    },
    {
      "cell_type": "code",
      "source": [
        "#converts string to numberic labels\n",
        "label_encoder = LabelEncoder()\n",
        "train_df['Class'] = label_encoder.fit_transform(train_df['Class'])\n",
        "test_df['Class'] = label_encoder.transform(test_df['Class'])"
      ],
      "metadata": {
        "id": "82_MviPc2Ess"
      },
      "execution_count": 17,
      "outputs": []
    },
    {
      "cell_type": "code",
      "source": [
        "#BERT model\n",
        "model_name = 'bert-base-uncased'\n",
        "model = BertForSequenceClassification.from_pretrained(model_name, num_labels=3)\n",
        "tokenizer = BertTokenizer.from_pretrained(model_name)"
      ],
      "metadata": {
        "colab": {
          "base_uri": "https://localhost:8080/",
          "height": 336,
          "referenced_widgets": [
            "819d2d18a58b4ce0ad99c317397f615f",
            "e7a202e8184f41e7ac2d6f6c9644e252",
            "650af56235a545edac476c8b98a77942",
            "fa5dbdc91c9343ecb044f7639c881e1c",
            "e7937c9791994a90a346465087a4c92a",
            "80163f34d56f49bcad52fd67ba71dc51",
            "c063c3d306a5479dbdbf7e6996b6ca2c",
            "e9c21691d3494e42a9bdc332e6ec8c52",
            "c7caae173232414abe11830ca182ade6",
            "88c506efe3074fad93a34a51bfd4b1a4",
            "7a3e278a87e44c398ab3a07889605ed7",
            "6ca7f36472db421f8b32f7bd89dcebc9",
            "586bae2add7d47f3b64cf3b878a85476",
            "fa1771abe2f2428f8e0498b3649c5eb7",
            "2d19c540f5c74469a34c1ccc34e94596",
            "2ad87c479d0044ca99d6a0d77abc8015",
            "d5c68c6de8224fd89756fe3fd6638a61",
            "88b1af0c82f44ecc977b53fc2ec9fc15",
            "d82b48230a804c2284e50d3093f689c4",
            "93afa9170d234af0850782a83bc70f94",
            "0badf35eff1448b78c50776d4fc9e83e",
            "763dac027b7f421d85d357b80fc17aa4",
            "e39c19ce22634d98a6b96fda51445fdf",
            "bc8092f193cf4062a65752816c783074",
            "7a4e9c01a2514b4595dd697852514397",
            "b952b85baa6a44bea40c8f97de0fcc39",
            "c23f0227eec14b24b5f1454f5a9f9a2a",
            "edfbbc3bba064df0810a256b310e03c7",
            "214b9f70a6704536b74e65ea7e0f57bb",
            "165f8636573b4653840b075d37090949",
            "faca2d1bebfd4c9488166348cd3c414c",
            "26f417cc53f6418cb8b6950d5bff0467",
            "8d66573a487b471d868bb98809a0c7a5",
            "16e17c228bfc43ed91ae5fdf08cd0a91",
            "a95043be8894414eaf460c3e8d643d28",
            "d2000d947ae94bd99eb0fbb420cea73b",
            "301ceb8ad822483b8d3042beb77cd092",
            "3d2813a68cab4ad59142f0fdbc90c551",
            "f2ca6c43e8334de29c9b3b2850147032",
            "e7452bc0a7a449bd9bdb7932a081f768",
            "6937d9f60f714a338ef0dd48dde1cfca",
            "0f068f79071a4d2fa17346053d11c05b",
            "48a3e2c96dce49619b300278210e96c4",
            "0135658255024f4198f8bd56696fc7b7",
            "d55d1287f2a94b699c8f1742ca3b8e1e",
            "7a2f1f3bac9648e19b35808365eec9e1",
            "1dcaf4a6771b490588ce3672ed482ad2",
            "fca8b1b8ccec4a01a3c00459707ab5ff",
            "dc593b312fc8440f94a5aecd61514426",
            "44a057f717e64429b04746360918d35c",
            "ab34fe265eea4a39a90c64f541647a87",
            "c3a0a41f6b794913908e343e7710f42b",
            "79f3ba218d3e492b826a66f3d344e118",
            "e752097ae2a4449c93668647122c3e42",
            "477ee41d43944928bed9415a2e80a3bc"
          ]
        },
        "id": "ZtXkCncJ2IpQ",
        "outputId": "98eee24c-1bbe-4800-9212-a727002e0cdb"
      },
      "execution_count": 18,
      "outputs": [
        {
          "output_type": "stream",
          "name": "stderr",
          "text": [
            "/usr/local/lib/python3.10/dist-packages/huggingface_hub/utils/_token.py:88: UserWarning: \n",
            "The secret `HF_TOKEN` does not exist in your Colab secrets.\n",
            "To authenticate with the Hugging Face Hub, create a token in your settings tab (https://huggingface.co/settings/tokens), set it as secret in your Google Colab and restart your session.\n",
            "You will be able to reuse this secret in all of your notebooks.\n",
            "Please note that authentication is recommended but still optional to access public models or datasets.\n",
            "  warnings.warn(\n"
          ]
        },
        {
          "output_type": "display_data",
          "data": {
            "text/plain": [
              "config.json:   0%|          | 0.00/570 [00:00<?, ?B/s]"
            ],
            "application/vnd.jupyter.widget-view+json": {
              "version_major": 2,
              "version_minor": 0,
              "model_id": "819d2d18a58b4ce0ad99c317397f615f"
            }
          },
          "metadata": {}
        },
        {
          "output_type": "display_data",
          "data": {
            "text/plain": [
              "model.safetensors:   0%|          | 0.00/440M [00:00<?, ?B/s]"
            ],
            "application/vnd.jupyter.widget-view+json": {
              "version_major": 2,
              "version_minor": 0,
              "model_id": "6ca7f36472db421f8b32f7bd89dcebc9"
            }
          },
          "metadata": {}
        },
        {
          "output_type": "stream",
          "name": "stderr",
          "text": [
            "Some weights of BertForSequenceClassification were not initialized from the model checkpoint at bert-base-uncased and are newly initialized: ['classifier.bias', 'classifier.weight']\n",
            "You should probably TRAIN this model on a down-stream task to be able to use it for predictions and inference.\n"
          ]
        },
        {
          "output_type": "display_data",
          "data": {
            "text/plain": [
              "tokenizer_config.json:   0%|          | 0.00/48.0 [00:00<?, ?B/s]"
            ],
            "application/vnd.jupyter.widget-view+json": {
              "version_major": 2,
              "version_minor": 0,
              "model_id": "e39c19ce22634d98a6b96fda51445fdf"
            }
          },
          "metadata": {}
        },
        {
          "output_type": "display_data",
          "data": {
            "text/plain": [
              "vocab.txt:   0%|          | 0.00/232k [00:00<?, ?B/s]"
            ],
            "application/vnd.jupyter.widget-view+json": {
              "version_major": 2,
              "version_minor": 0,
              "model_id": "16e17c228bfc43ed91ae5fdf08cd0a91"
            }
          },
          "metadata": {}
        },
        {
          "output_type": "display_data",
          "data": {
            "text/plain": [
              "tokenizer.json:   0%|          | 0.00/466k [00:00<?, ?B/s]"
            ],
            "application/vnd.jupyter.widget-view+json": {
              "version_major": 2,
              "version_minor": 0,
              "model_id": "d55d1287f2a94b699c8f1742ca3b8e1e"
            }
          },
          "metadata": {}
        }
      ]
    },
    {
      "cell_type": "code",
      "source": [
        "#tokenize the sets\n",
        "train_encodings = tokenizer(list(train_df['Document']), truncation=True, padding=True, return_tensors='pt')\n",
        "test_encodings = tokenizer(list(test_df['Document']), truncation=True, padding=True, return_tensors='pt')"
      ],
      "metadata": {
        "id": "y3YUWM0m2NOe"
      },
      "execution_count": 19,
      "outputs": []
    },
    {
      "cell_type": "code",
      "source": [
        "#Labels to tensors\n",
        "train_labels = torch.tensor(train_df['Class'].values)\n",
        "test_labels = torch.tensor(test_df['Class'].values)"
      ],
      "metadata": {
        "id": "N-kbn6Ni2Rg5"
      },
      "execution_count": 20,
      "outputs": []
    },
    {
      "cell_type": "code",
      "source": [
        "class CustomDataset(Dataset):\n",
        "  def __init__(self, encodings, labels):\n",
        "    self.encodings = encodings\n",
        "    self.labels = labels\n",
        "\n",
        "  def __len__(self):\n",
        "    return len(self.labels)\n",
        "\n",
        "  def __getitem__(self, idx):\n",
        "    item = {key: torch.tensor(val[idx]) for key, val in self.encodings.items()}\n",
        "    item['labels'] = torch.tensor(self.labels[idx])\n",
        "    return item\n",
        "\n",
        "train_dataset = CustomDataset(train_encodings, train_labels)\n",
        "test_dataset = CustomDataset(test_encodings, test_labels)\n",
        "\n"
      ],
      "metadata": {
        "id": "zmS247Xy2Tly"
      },
      "execution_count": 21,
      "outputs": []
    },
    {
      "cell_type": "markdown",
      "source": [
        "**Setting up training parameters**"
      ],
      "metadata": {
        "id": "4ZxxArpo2d6A"
      }
    },
    {
      "cell_type": "code",
      "source": [
        "optimizer = AdamW(model.parameters(), lr=3e-5)\n",
        "device = torch.device('cuda') if torch.cuda.is_available() else torch.device('cpu')\n",
        "\n",
        "model.to(device)\n",
        "train_loader = DataLoader(train_dataset, batch_size=6, shuffle=True)"
      ],
      "metadata": {
        "colab": {
          "base_uri": "https://localhost:8080/"
        },
        "id": "vLGmzSNC2sf_",
        "outputId": "84991fc4-3b66-46c8-bb91-6e55e071175d"
      },
      "execution_count": 22,
      "outputs": [
        {
          "output_type": "stream",
          "name": "stderr",
          "text": [
            "/usr/local/lib/python3.10/dist-packages/transformers/optimization.py:521: FutureWarning: This implementation of AdamW is deprecated and will be removed in a future version. Use the PyTorch implementation torch.optim.AdamW instead, or set `no_deprecation_warning=True` to disable this warning\n",
            "  warnings.warn(\n"
          ]
        }
      ]
    },
    {
      "cell_type": "code",
      "source": [
        "num_epochs = 3\n",
        "num_classes = 3\n",
        "\n",
        "for epoch in range(num_epochs):\n",
        "    model.train()\n",
        "    for batch in tqdm(train_loader, desc=f'Epoch {epoch + 1}/{num_epochs}'):\n",
        "        optimizer.zero_grad()\n",
        "        input_ids = batch['input_ids'].to(device)\n",
        "        attention_mask = batch['attention_mask'].to(device)\n",
        "        labels = batch['labels'].to(device)\n",
        "\n",
        "        # Check label range\n",
        "        assert torch.min(labels).item() >= 0, \"Labels must be non-negative\"\n",
        "        assert torch.max(labels).item() < num_classes, f\"Labels must be less than {num_classes}\"\n",
        "\n",
        "        outputs = model(input_ids, attention_mask=attention_mask, labels=labels)\n",
        "        loss = outputs.loss\n",
        "        loss.backward()\n",
        "        optimizer.step()"
      ],
      "metadata": {
        "colab": {
          "base_uri": "https://localhost:8080/"
        },
        "id": "03bhQ-bE26lL",
        "outputId": "fed17490-6860-416f-a4e8-9627348694e8"
      },
      "execution_count": 23,
      "outputs": [
        {
          "output_type": "stream",
          "name": "stderr",
          "text": [
            "\rEpoch 1/3:   0%|          | 0/40 [00:00<?, ?it/s]<ipython-input-21-17b3082b171e>:10: UserWarning: To copy construct from a tensor, it is recommended to use sourceTensor.clone().detach() or sourceTensor.clone().detach().requires_grad_(True), rather than torch.tensor(sourceTensor).\n",
            "  item = {key: torch.tensor(val[idx]) for key, val in self.encodings.items()}\n",
            "<ipython-input-21-17b3082b171e>:11: UserWarning: To copy construct from a tensor, it is recommended to use sourceTensor.clone().detach() or sourceTensor.clone().detach().requires_grad_(True), rather than torch.tensor(sourceTensor).\n",
            "  item['labels'] = torch.tensor(self.labels[idx])\n",
            "Epoch 1/3: 100%|██████████| 40/40 [04:48<00:00,  7.20s/it]\n",
            "Epoch 2/3: 100%|██████████| 40/40 [04:11<00:00,  6.29s/it]\n",
            "Epoch 3/3: 100%|██████████| 40/40 [04:12<00:00,  6.31s/it]\n"
          ]
        }
      ]
    },
    {
      "cell_type": "markdown",
      "source": [
        "**Evaluating the test set**"
      ],
      "metadata": {
        "id": "o3bcC8mRHlae"
      }
    },
    {
      "cell_type": "code",
      "source": [
        "model.eval()\n",
        "test_loader = DataLoader(test_dataset, batch_size=4, shuffle=False)\n",
        "all_predictions = []\n",
        "\n",
        "with torch.no_grad():\n",
        "  for batch in tqdm(test_loader, desc='Evaluating'):\n",
        "    input_ids = batch['input_ids'].to(device)\n",
        "    attention_mask = batch['attention_mask'].to(device)\n",
        "    labels = batch['labels'].to(device)\n",
        "    outputs = model(input_ids, attention_mask=attention_mask)\n",
        "    predictions = torch.argmax(outputs.logits, dim=1).cpu().numpy()\n",
        "    all_predictions.extend(predictions)"
      ],
      "metadata": {
        "id": "k5wlnyz53RZO",
        "colab": {
          "base_uri": "https://localhost:8080/"
        },
        "outputId": "3ecf0f97-230e-45d0-8dde-244ce46af4db"
      },
      "execution_count": 24,
      "outputs": [
        {
          "output_type": "stream",
          "name": "stderr",
          "text": [
            "\rEvaluating:   0%|          | 0/15 [00:00<?, ?it/s]<ipython-input-21-17b3082b171e>:10: UserWarning: To copy construct from a tensor, it is recommended to use sourceTensor.clone().detach() or sourceTensor.clone().detach().requires_grad_(True), rather than torch.tensor(sourceTensor).\n",
            "  item = {key: torch.tensor(val[idx]) for key, val in self.encodings.items()}\n",
            "<ipython-input-21-17b3082b171e>:11: UserWarning: To copy construct from a tensor, it is recommended to use sourceTensor.clone().detach() or sourceTensor.clone().detach().requires_grad_(True), rather than torch.tensor(sourceTensor).\n",
            "  item['labels'] = torch.tensor(self.labels[idx])\n",
            "Evaluating: 100%|██████████| 15/15 [00:23<00:00,  1.56s/it]\n"
          ]
        }
      ]
    },
    {
      "cell_type": "markdown",
      "source": [
        "**Reporting test accuracy**"
      ],
      "metadata": {
        "id": "oo0E-cw-3Ytl"
      }
    },
    {
      "cell_type": "code",
      "source": [
        "test_true_labels = test_labels.cpu().numpy()\n",
        "test_accuracy = accuracy_score(test_true_labels, all_predictions)\n",
        "print(f\"Test Accuracy: {test_accuracy}\")"
      ],
      "metadata": {
        "id": "RJmCpVbI3YU0",
        "colab": {
          "base_uri": "https://localhost:8080/"
        },
        "outputId": "c4223a9c-d2f3-4234-cd4f-f44674ba9f9d"
      },
      "execution_count": 25,
      "outputs": [
        {
          "output_type": "stream",
          "name": "stdout",
          "text": [
            "Test Accuracy: 1.0\n"
          ]
        }
      ]
    },
    {
      "cell_type": "markdown",
      "source": [
        "Here, we can see that a test accuracy of **100%** is reported."
      ],
      "metadata": {
        "id": "1rHPv_r5Lp2m"
      }
    },
    {
      "cell_type": "markdown",
      "source": [
        "**Function to predict text into its respective classes**"
      ],
      "metadata": {
        "id": "eCGiB5rcK0ZN"
      }
    },
    {
      "cell_type": "code",
      "source": [
        "def predict_class(text):\n",
        "  # Tokenize the input text\n",
        "  inputs = tokenizer(text, return_tensors=\"pt\", truncation=True, padding=True)\n",
        "  # Make the prediction\n",
        "  with torch.no_grad():\n",
        "    outputs = model(**inputs)\n",
        "\n",
        "  # Get the predicted class\n",
        "  logits = outputs.logits\n",
        "  predicted_class = torch.argmax(logits, dim=1).item()\n",
        "  # Decode the predicted class using the label encoder\n",
        "  decoded_class = label_encoder.inverse_transform([predicted_class])[0]\n",
        "  return decoded_class"
      ],
      "metadata": {
        "id": "WyUF8EaQ3cef"
      },
      "execution_count": 26,
      "outputs": []
    },
    {
      "cell_type": "markdown",
      "source": [
        "**Testing on books class**"
      ],
      "metadata": {
        "id": "yeEUz7J5K5Xc"
      }
    },
    {
      "cell_type": "code",
      "source": [
        "example_text = \"In the ancient land of Eldoria, where magic and mystery intertwine, lies the tale of the lost kingdom and the quest for the legendary Crystal of Eternity. This fabled artifact is said to hold the power to reshape destinies and bring forth an era of unparalleled prosperity or unimaginable destruction.\"\n",
        "# Predict the class\n",
        "predicted_class = predict_class(example_text)\n",
        "# Print the result\n",
        "print(f\"Predicted Class: {predicted_class}\")"
      ],
      "metadata": {
        "id": "xa13GUOl7nCP",
        "colab": {
          "base_uri": "https://localhost:8080/"
        },
        "outputId": "8be56b84-fe0f-40c9-d82c-5f2b3d5befe2"
      },
      "execution_count": 27,
      "outputs": [
        {
          "output_type": "stream",
          "name": "stdout",
          "text": [
            "Predicted Class: books\n"
          ]
        }
      ]
    },
    {
      "cell_type": "markdown",
      "source": [
        "**Testing on football class**"
      ],
      "metadata": {
        "id": "pHnZ_28WK8ZK"
      }
    },
    {
      "cell_type": "code",
      "source": [
        "example_text = \"Kobie Mainoo, the rising star from Manchester United's youth academy, has been making waves in the football world with his remarkable talent and promising potential. Born and bred in Manchester, Mainoo's journey to Old Trafford began at a young age when he caught the eye of talent scouts with his exceptional skills on the pitch.\"\n",
        "\n",
        "# Predict the class\n",
        "predicted_class = predict_class(example_text)\n",
        "# Print the result\n",
        "print(f\"Predicted Class: {predicted_class}\")\n"
      ],
      "metadata": {
        "colab": {
          "base_uri": "https://localhost:8080/"
        },
        "id": "-zVYQoHXLKNP",
        "outputId": "d77b0d81-db8c-4a22-d00e-282c6487ead4"
      },
      "execution_count": 28,
      "outputs": [
        {
          "output_type": "stream",
          "name": "stdout",
          "text": [
            "Predicted Class: football\n"
          ]
        }
      ]
    },
    {
      "cell_type": "markdown",
      "source": [
        "**Testing on city class**"
      ],
      "metadata": {
        "id": "jPJpD5y_LYwv"
      }
    },
    {
      "cell_type": "code",
      "source": [
        "example_text = \"Nestled in the heart of the American Midwest, Bloomington, Indiana, is a vibrant and picturesque city that captivates visitors with its charming blend of natural beauty, academic prowess, and cultural richness. Home to Indiana University, Bloomington boasts a dynamic and diverse community, where academia, arts, and outdoor recreation converge to create a unique and inviting atmosphere.\"\n",
        "\n",
        "# Predict the class\n",
        "predicted_class = predict_class(example_text)\n",
        "# Print the result\n",
        "print(f\"Predicted Class: {predicted_class}\")\n"
      ],
      "metadata": {
        "colab": {
          "base_uri": "https://localhost:8080/"
        },
        "id": "1vYZ23a7LRDa",
        "outputId": "253dcf99-72ff-4d91-92c8-4c086c0c478b"
      },
      "execution_count": 29,
      "outputs": [
        {
          "output_type": "stream",
          "name": "stdout",
          "text": [
            "Predicted Class: city\n"
          ]
        }
      ]
    },
    {
      "cell_type": "markdown",
      "source": [
        "**Here, we can see that we get 100% accuracy for the model. Increasing the number of sentences for each category could perhaps increase the model complexity to some extent and this could result in a slightly lower accuracy. To counter this, we could employ a different transformer based architecture, or apply regularization techniques such as dropout.**\n",
        "\n"
      ],
      "metadata": {
        "id": "bumTLZrb4Uvv"
      }
    }
  ]
}